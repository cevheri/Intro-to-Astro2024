{
 "cells": [
  {
   "metadata": {},
   "cell_type": "markdown",
   "source": "# Week1 Unix and Git commands ",
   "id": "6239e2de1c2c8f5d"
  },
  {
   "metadata": {},
   "cell_type": "markdown",
   "source": "## Unix commands",
   "id": "f067afae6e36df00"
  },
  {
   "metadata": {
    "ExecuteTime": {
     "end_time": "2024-07-08T00:05:38.212936Z",
     "start_time": "2024-07-08T00:05:38.036058Z"
    }
   },
   "cell_type": "code",
   "source": [
    "# list files in the current directory\n",
    "!ls"
   ],
   "id": "99f46d3a9bd9f87d",
   "outputs": [
    {
     "name": "stdout",
     "output_type": "stream",
     "text": [
      "data\t\t\t\t  README.md\r\n",
      "how_to_read_scientific_papers.md  Unix_Git_Tutorial.ipynb\r\n",
      "images\t\t\t\t  Unix_Git_Tutorial.slides.html\r\n",
      "notebook_names.txt\t\t  week1-unix-and-git.ipynb\r\n",
      "PaperWritingGuide.pdf\r\n"
     ]
    }
   ],
   "execution_count": 2
  },
  {
   "metadata": {
    "ExecuteTime": {
     "end_time": "2024-07-08T00:07:29.978490Z",
     "start_time": "2024-07-08T00:07:29.803855Z"
    }
   },
   "cell_type": "code",
   "source": [
    "# list files in the current directory with details\n",
    "!ls -l"
   ],
   "id": "51498de821431b73",
   "outputs": [
    {
     "name": "stdout",
     "output_type": "stream",
     "text": [
      "total 760\r\n",
      "drwxrwxr-x 2 cevheri cevheri   4096 Jul  8 03:03 data\r\n",
      "-rw-rw-r-- 1 cevheri cevheri   2502 Jul  8 03:03 how_to_read_scientific_papers.md\r\n",
      "drwxrwxr-x 2 cevheri cevheri   4096 Jul  8 03:03 images\r\n",
      "-rw-rw-r-- 1 cevheri cevheri      0 Jul  8 03:06 new_file.txt\r\n",
      "-rw-rw-r-- 1 cevheri cevheri     78 Jul  8 03:03 notebook_names.txt\r\n",
      "-rw-rw-r-- 1 cevheri cevheri 121204 Jul  8 03:03 PaperWritingGuide.pdf\r\n",
      "-rw-rw-r-- 1 cevheri cevheri   3308 Jul  8 03:03 README.md\r\n",
      "-rw-rw-r-- 1 cevheri cevheri  21374 Jul  8 03:03 Unix_Git_Tutorial.ipynb\r\n",
      "-rw-rw-r-- 1 cevheri cevheri 602402 Jul  8 03:03 Unix_Git_Tutorial.slides.html\r\n",
      "-rw-rw-r-- 1 cevheri cevheri   3897 Jul  8 03:07 week1-unix-and-git.ipynb\r\n"
     ]
    }
   ],
   "execution_count": 9
  },
  {
   "metadata": {
    "ExecuteTime": {
     "end_time": "2024-07-08T00:07:37.947188Z",
     "start_time": "2024-07-08T00:07:37.767184Z"
    }
   },
   "cell_type": "code",
   "source": [
    "# list files in the current directory with details and hidden files\n",
    "!ls -la"
   ],
   "id": "e00f8ad05ecec7d5",
   "outputs": [
    {
     "name": "stdout",
     "output_type": "stream",
     "text": [
      "total 776\r\n",
      "drwxrwxr-x 5 cevheri cevheri   4096 Jul  8 03:07 .\r\n",
      "drwxrwxr-x 7 cevheri cevheri   4096 Jul  8 03:03 ..\r\n",
      "drwxrwxr-x 2 cevheri cevheri   4096 Jul  8 03:03 data\r\n",
      "-rw-rw-r-- 1 cevheri cevheri   2502 Jul  8 03:03 how_to_read_scientific_papers.md\r\n",
      "drwxrwxr-x 2 cevheri cevheri   4096 Jul  8 03:03 images\r\n",
      "drwxrwxr-x 2 cevheri cevheri   4096 Jul  8 03:03 .ipynb_checkpoints\r\n",
      "-rw-rw-r-- 1 cevheri cevheri      0 Jul  8 03:06 new_file.txt\r\n",
      "-rw-rw-r-- 1 cevheri cevheri     78 Jul  8 03:03 notebook_names.txt\r\n",
      "-rw-rw-r-- 1 cevheri cevheri 121204 Jul  8 03:03 PaperWritingGuide.pdf\r\n",
      "-rw-rw-r-- 1 cevheri cevheri   3308 Jul  8 03:03 README.md\r\n",
      "-rw-rw-r-- 1 cevheri cevheri  21374 Jul  8 03:03 Unix_Git_Tutorial.ipynb\r\n",
      "-rw-rw-r-- 1 cevheri cevheri 602402 Jul  8 03:03 Unix_Git_Tutorial.slides.html\r\n",
      "-rw-rw-r-- 1 cevheri cevheri   5181 Jul  8 03:07 week1-unix-and-git.ipynb\r\n"
     ]
    }
   ],
   "execution_count": 10
  },
  {
   "metadata": {
    "ExecuteTime": {
     "end_time": "2024-07-08T00:05:54.481459Z",
     "start_time": "2024-07-08T00:05:54.304675Z"
    }
   },
   "cell_type": "code",
   "source": [
    "# print the current working directory\n",
    "!pwd"
   ],
   "id": "c9d5ebe3523d0ca6",
   "outputs": [
    {
     "name": "stdout",
     "output_type": "stream",
     "text": [
      "/home/cevheri/projects/ai/Intro-to-Astro2024/Week1_Unix_Git_Papers\r\n"
     ]
    }
   ],
   "execution_count": 3
  },
  {
   "metadata": {
    "ExecuteTime": {
     "end_time": "2024-07-08T00:06:05.400828Z",
     "start_time": "2024-07-08T00:06:05.226739Z"
    }
   },
   "cell_type": "code",
   "source": [
    "# change directory\n",
    "!cd data"
   ],
   "id": "aa1b0f0a76712d2e",
   "outputs": [],
   "execution_count": 4
  },
  {
   "metadata": {
    "ExecuteTime": {
     "end_time": "2024-07-08T00:06:29.375522Z",
     "start_time": "2024-07-08T00:06:29.201069Z"
    }
   },
   "cell_type": "code",
   "source": [
    "# create a new directory\n",
    "!mkdir will_be_deleted"
   ],
   "id": "4c8f2417536b13f1",
   "outputs": [],
   "execution_count": 5
  },
  {
   "metadata": {
    "ExecuteTime": {
     "end_time": "2024-07-08T00:06:33.608818Z",
     "start_time": "2024-07-08T00:06:33.434719Z"
    }
   },
   "cell_type": "code",
   "source": [
    "# remove a directory\n",
    "!rmdir will_be_deleted"
   ],
   "id": "82fde9d446eae12b",
   "outputs": [],
   "execution_count": 6
  },
  {
   "metadata": {
    "ExecuteTime": {
     "end_time": "2024-07-08T00:06:47.414602Z",
     "start_time": "2024-07-08T00:06:47.235547Z"
    }
   },
   "cell_type": "code",
   "source": [
    "# create a new file\n",
    "!touch new_file.txt\n"
   ],
   "id": "7ee4383f55e15cc",
   "outputs": [],
   "execution_count": 7
  },
  {
   "metadata": {
    "ExecuteTime": {
     "end_time": "2024-07-08T00:06:50.261065Z",
     "start_time": "2024-07-08T00:06:50.259127Z"
    }
   },
   "cell_type": "code",
   "source": "# remove a file\n",
   "id": "70fb3e5172d8fb84",
   "outputs": [],
   "execution_count": 8
  },
  {
   "metadata": {
    "ExecuteTime": {
     "end_time": "2024-07-08T00:09:01.787434Z",
     "start_time": "2024-07-08T00:09:01.441123Z"
    }
   },
   "cell_type": "code",
   "source": [
    "# copy a file\n",
    "!touch new_file.txt\n",
    "\n",
    "!cp new_file.txt new_file_copy.txt"
   ],
   "id": "38f5dc0264c0bad0",
   "outputs": [],
   "execution_count": 14
  },
  {
   "metadata": {
    "ExecuteTime": {
     "end_time": "2024-07-08T00:09:08.650807Z",
     "start_time": "2024-07-08T00:09:08.474477Z"
    }
   },
   "cell_type": "code",
   "source": [
    "# move or rename file\n",
    "!mv new_file_copy.txt new_file_renamed.txt"
   ],
   "id": "164688dfb97ba8e3",
   "outputs": [],
   "execution_count": 15
  },
  {
   "metadata": {
    "ExecuteTime": {
     "end_time": "2024-07-08T00:09:15.111643Z",
     "start_time": "2024-07-08T00:09:14.936335Z"
    }
   },
   "cell_type": "code",
   "source": [
    "# remove all created files\n",
    "!rm new_file.txt new_file_renamed.txt"
   ],
   "id": "4b0ec8eaf22d55de",
   "outputs": [],
   "execution_count": 16
  },
  {
   "metadata": {
    "ExecuteTime": {
     "end_time": "2024-07-08T00:09:41.220065Z",
     "start_time": "2024-07-08T00:09:41.043175Z"
    }
   },
   "cell_type": "code",
   "source": [
    "# print the screen\n",
    "!echo \"Hello world\""
   ],
   "id": "1f2d767aecde0c8f",
   "outputs": [
    {
     "name": "stdout",
     "output_type": "stream",
     "text": [
      "Hello world\r\n"
     ]
    }
   ],
   "execution_count": 17
  },
  {
   "metadata": {
    "ExecuteTime": {
     "end_time": "2024-07-08T00:09:47.988570Z",
     "start_time": "2024-07-08T00:09:47.814766Z"
    }
   },
   "cell_type": "code",
   "source": [
    "# print the screen to a file\n",
    "!echo \"Hello world\" > hello.txt\n"
   ],
   "id": "22f1ed4a8cad1aaf",
   "outputs": [],
   "execution_count": 18
  },
  {
   "metadata": {
    "ExecuteTime": {
     "end_time": "2024-07-08T00:10:18.968180Z",
     "start_time": "2024-07-08T00:10:18.795566Z"
    }
   },
   "cell_type": "code",
   "source": [
    "# print the screen in append mode\n",
    "!echo \"Hello world\" >> hello.txt"
   ],
   "id": "d438b2f2e52c3135",
   "outputs": [],
   "execution_count": 19
  },
  {
   "metadata": {
    "ExecuteTime": {
     "end_time": "2024-07-08T00:10:37.586374Z",
     "start_time": "2024-07-08T00:10:37.409695Z"
    }
   },
   "cell_type": "code",
   "source": [
    "# print all history commands\n",
    "!history"
   ],
   "id": "9b5d64e29bf3228b",
   "outputs": [
    {
     "name": "stdout",
     "output_type": "stream",
     "text": [
      "zsh:fc:1: no such event: 1\r\n"
     ]
    }
   ],
   "execution_count": 20
  },
  {
   "metadata": {
    "ExecuteTime": {
     "end_time": "2024-07-08T00:11:32.528993Z",
     "start_time": "2024-07-08T00:11:32.350357Z"
    }
   },
   "cell_type": "code",
   "source": [
    "# print all history commands with specific command\n",
    "!ls -al | grep \"notebook\""
   ],
   "id": "4dc828d22f1abe9c",
   "outputs": [
    {
     "name": "stdout",
     "output_type": "stream",
     "text": [
      "-rw-rw-r-- 1 cevheri cevheri     78 Jul  8 03:03 notebook_names.txt\r\n"
     ]
    }
   ],
   "execution_count": 22
  },
  {
   "metadata": {
    "ExecuteTime": {
     "end_time": "2024-07-08T00:11:39.589693Z",
     "start_time": "2024-07-08T00:11:39.412995Z"
    }
   },
   "cell_type": "code",
   "source": [
    "# find a file\n",
    "!find . -name \"notebook\""
   ],
   "id": "a61029de103edc32",
   "outputs": [],
   "execution_count": 23
  },
  {
   "metadata": {},
   "cell_type": "code",
   "outputs": [],
   "execution_count": null,
   "source": "#",
   "id": "c6c33461d8c24182"
  },
  {
   "metadata": {},
   "cell_type": "markdown",
   "source": "## Git commands",
   "id": "16cf5dfb235d8224"
  },
  {
   "metadata": {
    "ExecuteTime": {
     "end_time": "2024-07-08T00:12:23.381024Z",
     "start_time": "2024-07-08T00:12:23.206440Z"
    }
   },
   "cell_type": "code",
   "source": "!git --version",
   "id": "ff53c72aafcdac06",
   "outputs": [
    {
     "name": "stdout",
     "output_type": "stream",
     "text": [
      "git version 2.34.1\r\n"
     ]
    }
   ],
   "execution_count": 25
  },
  {
   "metadata": {
    "ExecuteTime": {
     "end_time": "2024-07-08T00:12:35.920466Z",
     "start_time": "2024-07-08T00:12:35.743738Z"
    }
   },
   "cell_type": "code",
   "source": [
    "# git status\n",
    "!git status"
   ],
   "id": "eee5c8ee06fd4f40",
   "outputs": [
    {
     "name": "stdout",
     "output_type": "stream",
     "text": [
      "On branch main\r\n",
      "Your branch is up to date with 'origin/main'.\r\n",
      "\r\n",
      "Changes to be committed:\r\n",
      "  (use \"git restore --staged <file>...\" to unstage)\r\n",
      "\t\u001B[32mnew file:   week1-unix-and-git.ipynb\u001B[m\r\n",
      "\t\u001B[32mnew file:   ../Week1_Unix_Python_Papers/week1-assigments.ipynb\u001B[m\r\n",
      "\r\n",
      "Changes not staged for commit:\r\n",
      "  (use \"git add <file>...\" to update what will be committed)\r\n",
      "  (use \"git restore <file>...\" to discard changes in working directory)\r\n",
      "\t\u001B[31mmodified:   week1-unix-and-git.ipynb\u001B[m\r\n",
      "\r\n",
      "Untracked files:\r\n",
      "  (use \"git add <file>...\" to include in what will be committed)\r\n",
      "\t\u001B[31mhello.txt\u001B[m\r\n",
      "\t\u001B[31m../Week1_Unix_Python_Papers/.ipynb_checkpoints/\u001B[m\r\n",
      "\r\n"
     ]
    }
   ],
   "execution_count": 26
  },
  {
   "metadata": {
    "ExecuteTime": {
     "end_time": "2024-07-08T00:13:03.938363Z",
     "start_time": "2024-07-08T00:13:03.936153Z"
    }
   },
   "cell_type": "code",
   "source": [
    "# git clone \n",
    "# !git clone # this is a git folder already cloned"
   ],
   "id": "cc193a914cc5b2f4",
   "outputs": [],
   "execution_count": 27
  },
  {
   "metadata": {
    "ExecuteTime": {
     "end_time": "2024-07-08T00:13:20.027071Z",
     "start_time": "2024-07-08T00:13:19.850214Z"
    }
   },
   "cell_type": "code",
   "source": [
    "# git add specific file\n",
    "!git add hello.txt"
   ],
   "id": "1969011293557bb9",
   "outputs": [],
   "execution_count": 28
  },
  {
   "metadata": {
    "ExecuteTime": {
     "end_time": "2024-07-08T00:14:04.680211Z",
     "start_time": "2024-07-08T00:14:04.503605Z"
    }
   },
   "cell_type": "code",
   "source": [
    "# git add and commit\n",
    "!git add ."
   ],
   "id": "f555bf781b6024f6",
   "outputs": [],
   "execution_count": 29
  },
  {
   "metadata": {
    "ExecuteTime": {
     "end_time": "2024-07-08T00:14:33.162608Z",
     "start_time": "2024-07-08T00:14:32.540014Z"
    }
   },
   "cell_type": "code",
   "source": [
    "# git pull\n",
    "!git pull origin main"
   ],
   "id": "a7927aea0047d923",
   "outputs": [
    {
     "name": "stdout",
     "output_type": "stream",
     "text": [
      "From https://github.com/cevheri/Intro-to-Astro2024\r\n",
      " * branch            main       -> FETCH_HEAD\r\n",
      "Already up to date.\r\n"
     ]
    }
   ],
   "execution_count": 30
  },
  {
   "metadata": {
    "ExecuteTime": {
     "end_time": "2024-07-08T00:14:48.428122Z",
     "start_time": "2024-07-08T00:14:47.838283Z"
    }
   },
   "cell_type": "code",
   "source": [
    "# git fetch all branches\n",
    "!git fetch --all"
   ],
   "id": "cbfd700effaee680",
   "outputs": [
    {
     "name": "stdout",
     "output_type": "stream",
     "text": [
      "Fetching origin\r\n"
     ]
    }
   ],
   "execution_count": 31
  },
  {
   "metadata": {
    "ExecuteTime": {
     "end_time": "2024-07-08T00:14:53.928826Z",
     "start_time": "2024-07-08T00:14:53.279518Z"
    }
   },
   "cell_type": "code",
   "source": [
    "# git push\n",
    "!git push origin main"
   ],
   "id": "54f1e0fae7011913",
   "outputs": [
    {
     "name": "stdout",
     "output_type": "stream",
     "text": [
      "Everything up-to-date\r\n"
     ]
    }
   ],
   "execution_count": 32
  },
  {
   "metadata": {},
   "cell_type": "code",
   "outputs": [],
   "execution_count": null,
   "source": "",
   "id": "7da3ccb969765531"
  }
 ],
 "metadata": {
  "kernelspec": {
   "display_name": "Python 3",
   "language": "python",
   "name": "python3"
  },
  "language_info": {
   "codemirror_mode": {
    "name": "ipython",
    "version": 2
   },
   "file_extension": ".py",
   "mimetype": "text/x-python",
   "name": "python",
   "nbconvert_exporter": "python",
   "pygments_lexer": "ipython2",
   "version": "2.7.6"
  }
 },
 "nbformat": 4,
 "nbformat_minor": 5
}
