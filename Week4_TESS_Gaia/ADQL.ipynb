{
 "cells": [
  {
   "metadata": {},
   "cell_type": "markdown",
   "source": "# Gaia Database and basic queries with ADQL (Astronomical Data Query Language)",
   "id": "26f9c89984bc1ef9"
  },
  {
   "metadata": {},
   "cell_type": "markdown",
   "source": [
    "## Overview\n",
    "ADQL is a specialized variant of the SQL query language adapted for accessing the astronomical datasets of the virtual observatory, via the Table access protocol (TAP). ADQL is dedigned to handle large datasets distributed over several locations, while not retrieving data that is not needed."
   ],
   "id": "90d96e5d681c9b75"
  },
  {
   "metadata": {},
   "cell_type": "markdown",
   "source": [
    "## Language\n",
    "ADQL is a query language that allows data to be retrieved via a single command, the select statement, which is designed to perform as the select statement in the SQL language. ADQL has extensions designed to improve handling of astronomical data such as spherical co-ordinates that are not handled by standard SQL."
   ],
   "id": "3c2e93ef4ddef5a0"
  },
  {
   "metadata": {},
   "cell_type": "markdown",
   "source": [
    "## Example\n",
    "\n",
    "```sql\n",
    "SELECT source_id, ra, dec\n",
    "FROM gaiadr1.tgas_source\n",
    "WHERE phot_g_mean_flux > 13\n",
    "```"
   ],
   "id": "b032e5ad45dc12b3"
  },
  {
   "metadata": {},
   "cell_type": "markdown",
   "source": [
    "##  Basic Queries with Gaia Database wit GUI\n",
    "The Gaia archive can be found here: https://gea.esac.esa.int/archive/. Click on search tab. Search tab has tree options: Basic, Advanced(ADQL) and Query Results.\n",
    "<img src=\"gaia-archive-search-01.png\"> "
   ],
   "id": "bb2a5affb1958609"
  },
  {
   "metadata": {},
   "cell_type": "markdown",
   "source": "",
   "id": "9c62f337ba0d34de"
  },
  {
   "metadata": {},
   "cell_type": "markdown",
   "source": "## Basic Query with ADQL on jupyter notebook",
   "id": "89b8eebe00299347"
  },
  {
   "metadata": {},
   "cell_type": "markdown",
   "source": "### Import the necessary libraries",
   "id": "f980c526b4e49e0a"
  },
  {
   "metadata": {
    "ExecuteTime": {
     "end_time": "2024-07-23T18:50:34.606167Z",
     "start_time": "2024-07-23T18:50:33.473351Z"
    }
   },
   "cell_type": "code",
   "source": [
    "from astroquery.gaia import Gaia\n",
    "import pandas as pd"
   ],
   "id": "f1d9771a7bff82a5",
   "outputs": [],
   "execution_count": 1
  },
  {
   "metadata": {},
   "cell_type": "markdown",
   "source": "#### ADQL Query for 10.000 closest stars",
   "id": "a32c21419db4060d"
  },
  {
   "metadata": {
    "ExecuteTime": {
     "end_time": "2024-07-23T18:54:01.358082Z",
     "start_time": "2024-07-23T18:54:00.079119Z"
    }
   },
   "cell_type": "code",
   "source": [
    "print(\"Querying Gaia database...\")\n",
    "query = \"\"\"\n",
    "SELECT TOP 10000\n",
    "       source_id,\n",
    "       parallax,\n",
    "       parallax_error,\n",
    "       phot_g_mean_mag,\n",
    "       bp_rp,\n",
    "       ra,\n",
    "       ra_error\n",
    " FROM gaiadr3.gaia_source\n",
    "WHERE parallax > 0\n",
    "ORDER BY parallax DESC\n",
    "\"\"\"\n",
    "print(\"ADQL Query: \", query)\n",
    "path = 'data/closest_10000.csv'\n",
    "job = Gaia.launch_job(query, output_file=path, output_format='csv', dump_to_file=True)\n",
    "print(f\"Job finished. Data saved to {path}. Job Info: {job}\")"
   ],
   "id": "61a2246d5eb8d359",
   "outputs": [
    {
     "name": "stdout",
     "output_type": "stream",
     "text": [
      "Querying Gaia database...\n",
      "ADQL Query:  \n",
      "SELECT TOP 10000\n",
      "       source_id,\n",
      "       parallax,\n",
      "       parallax_error,\n",
      "       phot_g_mean_mag,\n",
      "       bp_rp,\n",
      "       ra,\n",
      "       ra_error\n",
      " FROM gaiadr3.gaia_source\n",
      "WHERE parallax > 0\n",
      "ORDER BY parallax DESC\n",
      "\n",
      "Job finished. Data saved to data/closest_10000.csv. Job Info: Jobid: None\n",
      "Phase: COMPLETED\n",
      "Owner: None\n",
      "Output file: data/closest_10000.csv\n",
      "Results: None\n"
     ]
    }
   ],
   "execution_count": 2
  },
  {
   "metadata": {},
   "cell_type": "markdown",
   "source": [
    "#### Explanation of the query\n",
    "* **source_id**: Unique identifier for each star.\n",
    "* **parallax**: The apparent shift of the star due to Earth's orbit around the Sun, used to measure distance.\n",
    "* **parallax_error**: The error in the parallax measurement.\n",
    "* **phot_g_mean_mag**: The mean magnitude in the G band.\n",
    "* **bp_rp**: The color index, representing the difference between the blue and red photometric bands.\n",
    "* **ra**: Right Ascension, the celestial equivalent of longitude.\n",
    "* **ra_error**: The error in the right ascension measurement."
   ],
   "id": "bffdbf9876778d83"
  },
  {
   "metadata": {},
   "cell_type": "markdown",
   "source": "#### EDA - Exploratory Data Analysis",
   "id": "3b9e8762a6a35ba7"
  },
  {
   "metadata": {},
   "cell_type": "markdown",
   "source": "##### Load data",
   "id": "d5b80b124716708a"
  },
  {
   "metadata": {
    "ExecuteTime": {
     "end_time": "2024-07-23T18:54:16.576648Z",
     "start_time": "2024-07-23T18:54:16.556839Z"
    }
   },
   "cell_type": "code",
   "source": [
    "df = pd.read_csv(path)\n",
    "df.head()"
   ],
   "id": "e21c22990b6cc56f",
   "outputs": [
    {
     "data": {
      "text/plain": [
       "             source_id    parallax  parallax_error  phot_g_mean_mag     bp_rp  \\\n",
       "0  5853498713190525696  768.066539        0.049873         8.984749  3.804580   \n",
       "1  4472832130942575872  546.975940        0.040116         8.193974  2.833697   \n",
       "2  3864972938605115520  415.179416        0.068371        11.038391  4.184836   \n",
       "3   762815470562110464  392.752945        0.032067         6.551172  2.215609   \n",
       "4  2947050466531873024  374.489589        0.231335         8.524133 -0.278427   \n",
       "\n",
       "           ra  ra_error  \n",
       "0  217.392321  0.023999  \n",
       "1  269.448503  0.026239  \n",
       "2  164.103190  0.066837  \n",
       "3  165.830960  0.024126  \n",
       "4  101.286626  0.164834  "
      ],
      "text/html": [
       "<div>\n",
       "<style scoped>\n",
       "    .dataframe tbody tr th:only-of-type {\n",
       "        vertical-align: middle;\n",
       "    }\n",
       "\n",
       "    .dataframe tbody tr th {\n",
       "        vertical-align: top;\n",
       "    }\n",
       "\n",
       "    .dataframe thead th {\n",
       "        text-align: right;\n",
       "    }\n",
       "</style>\n",
       "<table border=\"1\" class=\"dataframe\">\n",
       "  <thead>\n",
       "    <tr style=\"text-align: right;\">\n",
       "      <th></th>\n",
       "      <th>source_id</th>\n",
       "      <th>parallax</th>\n",
       "      <th>parallax_error</th>\n",
       "      <th>phot_g_mean_mag</th>\n",
       "      <th>bp_rp</th>\n",
       "      <th>ra</th>\n",
       "      <th>ra_error</th>\n",
       "    </tr>\n",
       "  </thead>\n",
       "  <tbody>\n",
       "    <tr>\n",
       "      <th>0</th>\n",
       "      <td>5853498713190525696</td>\n",
       "      <td>768.066539</td>\n",
       "      <td>0.049873</td>\n",
       "      <td>8.984749</td>\n",
       "      <td>3.804580</td>\n",
       "      <td>217.392321</td>\n",
       "      <td>0.023999</td>\n",
       "    </tr>\n",
       "    <tr>\n",
       "      <th>1</th>\n",
       "      <td>4472832130942575872</td>\n",
       "      <td>546.975940</td>\n",
       "      <td>0.040116</td>\n",
       "      <td>8.193974</td>\n",
       "      <td>2.833697</td>\n",
       "      <td>269.448503</td>\n",
       "      <td>0.026239</td>\n",
       "    </tr>\n",
       "    <tr>\n",
       "      <th>2</th>\n",
       "      <td>3864972938605115520</td>\n",
       "      <td>415.179416</td>\n",
       "      <td>0.068371</td>\n",
       "      <td>11.038391</td>\n",
       "      <td>4.184836</td>\n",
       "      <td>164.103190</td>\n",
       "      <td>0.066837</td>\n",
       "    </tr>\n",
       "    <tr>\n",
       "      <th>3</th>\n",
       "      <td>762815470562110464</td>\n",
       "      <td>392.752945</td>\n",
       "      <td>0.032067</td>\n",
       "      <td>6.551172</td>\n",
       "      <td>2.215609</td>\n",
       "      <td>165.830960</td>\n",
       "      <td>0.024126</td>\n",
       "    </tr>\n",
       "    <tr>\n",
       "      <th>4</th>\n",
       "      <td>2947050466531873024</td>\n",
       "      <td>374.489589</td>\n",
       "      <td>0.231335</td>\n",
       "      <td>8.524133</td>\n",
       "      <td>-0.278427</td>\n",
       "      <td>101.286626</td>\n",
       "      <td>0.164834</td>\n",
       "    </tr>\n",
       "  </tbody>\n",
       "</table>\n",
       "</div>"
      ]
     },
     "execution_count": 3,
     "metadata": {},
     "output_type": "execute_result"
    }
   ],
   "execution_count": 3
  },
  {
   "metadata": {},
   "cell_type": "markdown",
   "source": "##### Data Description",
   "id": "4be368fa001ac282"
  },
  {
   "metadata": {
    "ExecuteTime": {
     "end_time": "2024-07-23T18:55:33.891896Z",
     "start_time": "2024-07-23T18:55:33.888489Z"
    }
   },
   "cell_type": "code",
   "source": "df.shape",
   "id": "b8ce2af02cd62ae7",
   "outputs": [
    {
     "data": {
      "text/plain": [
       "(10000, 7)"
      ]
     },
     "execution_count": 4,
     "metadata": {},
     "output_type": "execute_result"
    }
   ],
   "execution_count": 4
  },
  {
   "metadata": {},
   "cell_type": "markdown",
   "source": "##### Data info",
   "id": "242cc53728b61261"
  },
  {
   "metadata": {
    "ExecuteTime": {
     "end_time": "2024-07-23T18:56:06.856980Z",
     "start_time": "2024-07-23T18:56:06.848834Z"
    }
   },
   "cell_type": "code",
   "source": "df.info()",
   "id": "887dbe2be198879",
   "outputs": [
    {
     "name": "stdout",
     "output_type": "stream",
     "text": [
      "<class 'pandas.core.frame.DataFrame'>\n",
      "RangeIndex: 10000 entries, 0 to 9999\n",
      "Data columns (total 7 columns):\n",
      " #   Column           Non-Null Count  Dtype  \n",
      "---  ------           --------------  -----  \n",
      " 0   source_id        10000 non-null  int64  \n",
      " 1   parallax         10000 non-null  float64\n",
      " 2   parallax_error   10000 non-null  float64\n",
      " 3   phot_g_mean_mag  9985 non-null   float64\n",
      " 4   bp_rp            9632 non-null   float64\n",
      " 5   ra               10000 non-null  float64\n",
      " 6   ra_error         10000 non-null  float64\n",
      "dtypes: float64(6), int64(1)\n",
      "memory usage: 547.0 KB\n"
     ]
    }
   ],
   "execution_count": 5
  },
  {
   "metadata": {},
   "cell_type": "markdown",
   "source": "#### Data Visualization",
   "id": "57f68b24fa8f02d8"
  },
  {
   "metadata": {},
   "cell_type": "markdown",
   "source": "##### Import the necessary libraries",
   "id": "5944407a35108a49"
  },
  {
   "metadata": {
    "ExecuteTime": {
     "end_time": "2024-07-23T18:56:56.559132Z",
     "start_time": "2024-07-23T18:56:56.250533Z"
    }
   },
   "cell_type": "code",
   "source": "import matplotlib.pyplot as plt",
   "id": "9f46458e1df33b8e",
   "outputs": [],
   "execution_count": 6
  },
  {
   "metadata": {},
   "cell_type": "markdown",
   "source": "##### Visualize the data",
   "id": "db98d35fcf862bcb"
  },
  {
   "metadata": {
    "ExecuteTime": {
     "end_time": "2024-07-23T19:02:15.883480Z",
     "start_time": "2024-07-23T19:02:15.691428Z"
    }
   },
   "cell_type": "code",
   "source": [
    "plt.figure(figsize=(10, 6))\n",
    "plt.scatter(df['ra'], df['parallax'], s=0.1)\n",
    "plt.xlabel('RA')\n",
    "plt.ylabel('Parallax')\n",
    "plt.title('Parallax vs RA')\n",
    "plt.show()\n"
   ],
   "id": "636e0f245115f0a9",
   "outputs": [
    {
     "data": {
      "text/plain": [
       "<Figure size 1000x600 with 1 Axes>"
      ],
      "image/png": "[encoded data removed]"
     },
     "metadata": {},
     "output_type": "display_data"
    }
   ],
   "execution_count": 7
  },
  {
   "metadata": {},
   "cell_type": "markdown",
   "source": [
    "#### Explanation this plot\n",
    "This plot represents the relationship between the right ascension (RA) and parallax of stars from the Gaia DR3 dataset.\n"
   ],
   "id": "f46864bfe3c3f78"
  },
  {
   "metadata": {},
   "cell_type": "markdown",
   "source": "#### 1000 closest stars - plot",
   "id": "3db758ff5c57995f"
  },
  {
   "metadata": {},
   "cell_type": "markdown",
   "source": "##### Import the necessary libraries",
   "id": "fa69c5f036b7c75b"
  },
  {
   "metadata": {
    "ExecuteTime": {
     "end_time": "2024-07-23T19:11:16.540495Z",
     "start_time": "2024-07-23T19:11:16.537331Z"
    }
   },
   "cell_type": "code",
   "source": [
    "import matplotlib.pyplot as plt\n",
    "import numpy as np"
   ],
   "id": "372d3e04d0a12f9a",
   "outputs": [],
   "execution_count": 8
  },
  {
   "metadata": {},
   "cell_type": "markdown",
   "source": [
    "###### calculate the distance\n",
    "* Calculate distance in parsecs\n",
    "* Calculate absolute g-band photometric magnitude\n",
    "* Calculate absolute magnitude\n"
   ],
   "id": "67c75bfa1e7da8db"
  },
  {
   "metadata": {
    "ExecuteTime": {
     "end_time": "2024-07-23T19:12:52.515345Z",
     "start_time": "2024-07-23T19:12:52.505118Z"
    }
   },
   "cell_type": "code",
   "source": [
    "df['distance'] = 1 / (df['parallax'] * 1e-3)\n",
    "df['abs_g'] = df['phot_g_mean_mag'] + 5 + 5 * np.log10(df['distance'])\n",
    "df['abs_mag'] = df['phot_g_mean_mag'] + 5 * (np.log10(df['distance']) - 1)\n",
    "df.head()"
   ],
   "id": "20fb25ead7c097c0",
   "outputs": [
    {
     "data": {
      "text/plain": [
       "             source_id    parallax  parallax_error  phot_g_mean_mag     bp_rp  \\\n",
       "0  5853498713190525696  768.066539        0.049873         8.984749  3.804580   \n",
       "1  4472832130942575872  546.975940        0.040116         8.193974  2.833697   \n",
       "2  3864972938605115520  415.179416        0.068371        11.038391  4.184836   \n",
       "3   762815470562110464  392.752945        0.032067         6.551172  2.215609   \n",
       "4  2947050466531873024  374.489589        0.231335         8.524133 -0.278427   \n",
       "\n",
       "           ra  ra_error  distance      abs_g   abs_mag  \n",
       "0  217.392321  0.023999  1.301971  14.557755  4.557755  \n",
       "1  269.448503  0.026239  1.828234  14.504133  4.504133  \n",
       "2  164.103190  0.066837  2.408597  17.947212  7.947212  \n",
       "3  165.830960  0.024126  2.546130  13.580575  3.580575  \n",
       "4  101.286626  0.164834  2.670301  15.656934  5.656934  "
      ],
      "text/html": [
       "<div>\n",
       "<style scoped>\n",
       "    .dataframe tbody tr th:only-of-type {\n",
       "        vertical-align: middle;\n",
       "    }\n",
       "\n",
       "    .dataframe tbody tr th {\n",
       "        vertical-align: top;\n",
       "    }\n",
       "\n",
       "    .dataframe thead th {\n",
       "        text-align: right;\n",
       "    }\n",
       "</style>\n",
       "<table border=\"1\" class=\"dataframe\">\n",
       "  <thead>\n",
       "    <tr style=\"text-align: right;\">\n",
       "      <th></th>\n",
       "      <th>source_id</th>\n",
       "      <th>parallax</th>\n",
       "      <th>parallax_error</th>\n",
       "      <th>phot_g_mean_mag</th>\n",
       "      <th>bp_rp</th>\n",
       "      <th>ra</th>\n",
       "      <th>ra_error</th>\n",
       "      <th>distance</th>\n",
       "      <th>abs_g</th>\n",
       "      <th>abs_mag</th>\n",
       "    </tr>\n",
       "  </thead>\n",
       "  <tbody>\n",
       "    <tr>\n",
       "      <th>0</th>\n",
       "      <td>5853498713190525696</td>\n",
       "      <td>768.066539</td>\n",
       "      <td>0.049873</td>\n",
       "      <td>8.984749</td>\n",
       "      <td>3.804580</td>\n",
       "      <td>217.392321</td>\n",
       "      <td>0.023999</td>\n",
       "      <td>1.301971</td>\n",
       "      <td>14.557755</td>\n",
       "      <td>4.557755</td>\n",
       "    </tr>\n",
       "    <tr>\n",
       "      <th>1</th>\n",
       "      <td>4472832130942575872</td>\n",
       "      <td>546.975940</td>\n",
       "      <td>0.040116</td>\n",
       "      <td>8.193974</td>\n",
       "      <td>2.833697</td>\n",
       "      <td>269.448503</td>\n",
       "      <td>0.026239</td>\n",
       "      <td>1.828234</td>\n",
       "      <td>14.504133</td>\n",
       "      <td>4.504133</td>\n",
       "    </tr>\n",
       "    <tr>\n",
       "      <th>2</th>\n",
       "      <td>3864972938605115520</td>\n",
       "      <td>415.179416</td>\n",
       "      <td>0.068371</td>\n",
       "      <td>11.038391</td>\n",
       "      <td>4.184836</td>\n",
       "      <td>164.103190</td>\n",
       "      <td>0.066837</td>\n",
       "      <td>2.408597</td>\n",
       "      <td>17.947212</td>\n",
       "      <td>7.947212</td>\n",
       "    </tr>\n",
       "    <tr>\n",
       "      <th>3</th>\n",
       "      <td>762815470562110464</td>\n",
       "      <td>392.752945</td>\n",
       "      <td>0.032067</td>\n",
       "      <td>6.551172</td>\n",
       "      <td>2.215609</td>\n",
       "      <td>165.830960</td>\n",
       "      <td>0.024126</td>\n",
       "      <td>2.546130</td>\n",
       "      <td>13.580575</td>\n",
       "      <td>3.580575</td>\n",
       "    </tr>\n",
       "    <tr>\n",
       "      <th>4</th>\n",
       "      <td>2947050466531873024</td>\n",
       "      <td>374.489589</td>\n",
       "      <td>0.231335</td>\n",
       "      <td>8.524133</td>\n",
       "      <td>-0.278427</td>\n",
       "      <td>101.286626</td>\n",
       "      <td>0.164834</td>\n",
       "      <td>2.670301</td>\n",
       "      <td>15.656934</td>\n",
       "      <td>5.656934</td>\n",
       "    </tr>\n",
       "  </tbody>\n",
       "</table>\n",
       "</div>"
      ]
     },
     "execution_count": 10,
     "metadata": {},
     "output_type": "execute_result"
    }
   ],
   "execution_count": 10
  }
 ],
 "metadata": {
  "kernelspec": {
   "display_name": "Python 3",
   "language": "python",
   "name": "python3"
  },
  "language_info": {
   "codemirror_mode": {
    "name": "ipython",
    "version": 2
   },
   "file_extension": ".py",
   "mimetype": "text/x-python",
   "name": "python",
   "nbconvert_exporter": "python",
   "pygments_lexer": "ipython2",
   "version": "2.7.6"
  }
 },
 "nbformat": 4,
 "nbformat_minor": 5
}
