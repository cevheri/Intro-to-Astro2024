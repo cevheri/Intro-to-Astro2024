{
 "cells": [
  {
   "cell_type": "markdown",
   "id": "6293cc50",
   "metadata": {},
   "source": [
    "# 100 numpy exercises\n",
    "\n",
    "This is a collection of exercises that have been collected in the numpy mailing list, on stack overflow\n",
    "and in the numpy documentation. The goal of this collection is to offer a quick reference for both old\n",
    "and new users but also to provide a set of exercises for those who teach.\n",
    "\n",
    "\n",
    "If you find an error or think you've a better way to solve some of them, feel\n",
    "free to open an issue at <https://github.com/rougier/numpy-100>."
   ]
  },
  {
   "cell_type": "markdown",
   "id": "a167c052",
   "metadata": {},
   "source": [
    "File automatically generated. See the documentation to update questions/answers/hints programmatically."
   ]
  },
  {
   "cell_type": "markdown",
   "id": "57fc0ee5",
   "metadata": {},
   "source": [
    "Run the `initialize.py` module, then for each question you can query the\n",
    "answer or an hint with `hint(n)` or `answer(n)` for `n` question number."
   ]
  },
  {
   "cell_type": "code",
   "id": "83f2a3f9",
   "metadata": {
    "ExecuteTime": {
     "end_time": "2024-07-12T16:34:34.782383Z",
     "start_time": "2024-07-12T16:34:34.780312Z"
    }
   },
   "source": "#!pip install mdutils\n",
   "outputs": [],
   "execution_count": 2
  },
  {
   "cell_type": "code",
   "id": "da5965fa",
   "metadata": {
    "ExecuteTime": {
     "end_time": "2024-07-12T16:36:20.392205Z",
     "start_time": "2024-07-12T16:36:20.390363Z"
    }
   },
   "source": [
    "import mdutils as md"
   ],
   "outputs": [],
   "execution_count": 4
  },
  {
   "cell_type": "code",
   "id": "3d46fba2",
   "metadata": {
    "ExecuteTime": {
     "end_time": "2024-07-12T16:36:21.421123Z",
     "start_time": "2024-07-12T16:36:21.418781Z"
    }
   },
   "source": [
    "%run initialise.py\n"
   ],
   "outputs": [],
   "execution_count": 5
  },
  {
   "cell_type": "markdown",
   "id": "3c1222ff",
   "metadata": {},
   "source": [
    "#### 1. Import the numpy package under the name `np` (★☆☆)"
   ]
  },
  {
   "cell_type": "code",
   "id": "f52e6a0b",
   "metadata": {
    "ExecuteTime": {
     "end_time": "2024-07-12T16:36:29.479488Z",
     "start_time": "2024-07-12T16:36:29.477259Z"
    }
   },
   "source": [
    "import numpy as np"
   ],
   "outputs": [],
   "execution_count": 6
  },
  {
   "cell_type": "markdown",
   "id": "9d9f4753",
   "metadata": {},
   "source": [
    "#### 2. Print the numpy version and the configuration (★☆☆)"
   ]
  },
  {
   "cell_type": "code",
   "id": "b7fa5fa1",
   "metadata": {
    "ExecuteTime": {
     "end_time": "2024-07-12T16:36:31.518894Z",
     "start_time": "2024-07-12T16:36:31.516458Z"
    }
   },
   "source": [
    "print(np.__version__)"
   ],
   "outputs": [
    {
     "name": "stdout",
     "output_type": "stream",
     "text": [
      "1.26.4\n"
     ]
    }
   ],
   "execution_count": 7
  },
  {
   "cell_type": "markdown",
   "id": "3e4c23c6",
   "metadata": {},
   "source": [
    "#### 3. Create a null vector of size 10 (★☆☆)"
   ]
  },
  {
   "cell_type": "code",
   "id": "083c5c46",
   "metadata": {
    "ExecuteTime": {
     "end_time": "2024-07-12T16:36:51.424365Z",
     "start_time": "2024-07-12T16:36:51.421666Z"
    }
   },
   "source": [
    "# create a null vector of size 10\n",
    "Z = np.zeros(10)\n",
    "print(Z)"
   ],
   "outputs": [
    {
     "name": "stdout",
     "output_type": "stream",
     "text": [
      "[0. 0. 0. 0. 0. 0. 0. 0. 0. 0.]\n"
     ]
    }
   ],
   "execution_count": 9
  },
  {
   "cell_type": "markdown",
   "id": "c38bbe82",
   "metadata": {},
   "source": [
    "#### 4. How to find the memory size of any array (★☆☆)"
   ]
  },
  {
   "cell_type": "code",
   "id": "02b04021",
   "metadata": {
    "ExecuteTime": {
     "end_time": "2024-07-12T16:37:04.777998Z",
     "start_time": "2024-07-12T16:37:04.775161Z"
    }
   },
   "source": [
    "arr = np.zeros((10,10))\n",
    "print(\"%d bytes\" % (arr.size * arr.itemsize))"
   ],
   "outputs": [
    {
     "name": "stdout",
     "output_type": "stream",
     "text": [
      "800 bytes\n"
     ]
    }
   ],
   "execution_count": 10
  },
  {
   "cell_type": "markdown",
   "id": "67f893d4",
   "metadata": {},
   "source": [
    "#### 5. How to get the documentation of the numpy add function from the command line? (★☆☆)"
   ]
  },
  {
   "cell_type": "code",
   "id": "40e6b70d",
   "metadata": {
    "ExecuteTime": {
     "end_time": "2024-07-12T16:37:30.159891Z",
     "start_time": "2024-07-12T16:37:30.157595Z"
    }
   },
   "source": [
    "# get the documentation of the numpy add function\n",
    "print(np.info(np.add))"
   ],
   "outputs": [
    {
     "name": "stdout",
     "output_type": "stream",
     "text": [
      "add(x1, x2, /, out=None, *, where=True, casting='same_kind', order='K', dtype=None, subok=True[, signature, extobj])\n",
      "\n",
      "Add arguments element-wise.\n",
      "\n",
      "Parameters\n",
      "----------\n",
      "x1, x2 : array_like\n",
      "    The arrays to be added.\n",
      "    If ``x1.shape != x2.shape``, they must be broadcastable to a common\n",
      "    shape (which becomes the shape of the output).\n",
      "out : ndarray, None, or tuple of ndarray and None, optional\n",
      "    A location into which the result is stored. If provided, it must have\n",
      "    a shape that the inputs broadcast to. If not provided or None,\n",
      "    a freshly-allocated array is returned. A tuple (possible only as a\n",
      "    keyword argument) must have length equal to the number of outputs.\n",
      "where : array_like, optional\n",
      "    This condition is broadcast over the input. At locations where the\n",
      "    condition is True, the `out` array will be set to the ufunc result.\n",
      "    Elsewhere, the `out` array will retain its original value.\n",
      "    Note that if an uninitialized `out` array is created via the default\n",
      "    ``out=None``, locations within it where the condition is False will\n",
      "    remain uninitialized.\n",
      "**kwargs\n",
      "    For other keyword-only arguments, see the\n",
      "    :ref:`ufunc docs <ufuncs.kwargs>`.\n",
      "\n",
      "Returns\n",
      "-------\n",
      "add : ndarray or scalar\n",
      "    The sum of `x1` and `x2`, element-wise.\n",
      "    This is a scalar if both `x1` and `x2` are scalars.\n",
      "\n",
      "Notes\n",
      "-----\n",
      "Equivalent to `x1` + `x2` in terms of array broadcasting.\n",
      "\n",
      "Examples\n",
      "--------\n",
      ">>> np.add(1.0, 4.0)\n",
      "5.0\n",
      ">>> x1 = np.arange(9.0).reshape((3, 3))\n",
      ">>> x2 = np.arange(3.0)\n",
      ">>> np.add(x1, x2)\n",
      "array([[  0.,   2.,   4.],\n",
      "       [  3.,   5.,   7.],\n",
      "       [  6.,   8.,  10.]])\n",
      "\n",
      "The ``+`` operator can be used as a shorthand for ``np.add`` on ndarrays.\n",
      "\n",
      ">>> x1 = np.arange(9.0).reshape((3, 3))\n",
      ">>> x2 = np.arange(3.0)\n",
      ">>> x1 + x2\n",
      "array([[ 0.,  2.,  4.],\n",
      "       [ 3.,  5.,  7.],\n",
      "       [ 6.,  8., 10.]])\n",
      "None\n"
     ]
    }
   ],
   "execution_count": 11
  },
  {
   "cell_type": "markdown",
   "id": "e0c739c6",
   "metadata": {},
   "source": [
    "#### 6. Create a null vector of size 10 but the fifth value which is 1 (★☆☆)"
   ]
  },
  {
   "cell_type": "code",
   "id": "bcceacf7",
   "metadata": {
    "ExecuteTime": {
     "end_time": "2024-07-12T16:38:19.307382Z",
     "start_time": "2024-07-12T16:38:19.304945Z"
    }
   },
   "source": [
    "# create a null vector of size 10 but the fifth value which is 1\n",
    "Z = np.zeros(10)\n",
    "Z[4] = 1\n",
    "print(Z)"
   ],
   "outputs": [
    {
     "name": "stdout",
     "output_type": "stream",
     "text": [
      "[0. 0. 0. 0. 1. 0. 0. 0. 0. 0.]\n"
     ]
    }
   ],
   "execution_count": 12
  },
  {
   "cell_type": "markdown",
   "id": "fbebedab",
   "metadata": {},
   "source": "#### 7. Create a vector with values ranging from 10 to 49 (★☆☆)"
  },
  {
   "cell_type": "code",
   "id": "3d117d54",
   "metadata": {
    "ExecuteTime": {
     "end_time": "2024-07-12T16:38:37.524003Z",
     "start_time": "2024-07-12T16:38:37.521925Z"
    }
   },
   "source": [
    "a = np.arange(10,50)\n",
    "print(a)"
   ],
   "outputs": [
    {
     "name": "stdout",
     "output_type": "stream",
     "text": [
      "[10 11 12 13 14 15 16 17 18 19 20 21 22 23 24 25 26 27 28 29 30 31 32 33\n",
      " 34 35 36 37 38 39 40 41 42 43 44 45 46 47 48 49]\n"
     ]
    }
   ],
   "execution_count": 13
  },
  {
   "cell_type": "markdown",
   "id": "ad0bff02",
   "metadata": {},
   "source": [
    "#### 8. Reverse a vector (first element becomes last) (★☆☆)"
   ]
  },
  {
   "cell_type": "code",
   "id": "22d23470",
   "metadata": {
    "ExecuteTime": {
     "end_time": "2024-07-12T16:39:25.015896Z",
     "start_time": "2024-07-12T16:39:25.013792Z"
    }
   },
   "source": [
    "b = [1,2,3,4,5]\n",
    "print(f\"Original: {b}\")\n",
    "b = b[::-1]\n",
    "print(f\"Reversed: {b}\")"
   ],
   "outputs": [
    {
     "name": "stdout",
     "output_type": "stream",
     "text": [
      "Original: [1, 2, 3, 4, 5]\n",
      "Reversed: [5, 4, 3, 2, 1]\n"
     ]
    }
   ],
   "execution_count": 14
  },
  {
   "cell_type": "markdown",
   "id": "9f59d7e1",
   "metadata": {},
   "source": [
    "#### 9. Create a 3x3 matrix with values ranging from 0 to 8 (★☆☆)"
   ]
  },
  {
   "cell_type": "code",
   "id": "7449e82d",
   "metadata": {
    "ExecuteTime": {
     "end_time": "2024-07-12T16:42:29.733287Z",
     "start_time": "2024-07-12T16:42:29.730985Z"
    }
   },
   "source": [
    "# create a 3x3 matrix with values ranging from 0 to 8\n",
    "Z = np.arange(9)\n",
    "print(Z)\n",
    "z= Z.reshape(3,3)\n",
    "print(z)"
   ],
   "outputs": [
    {
     "name": "stdout",
     "output_type": "stream",
     "text": [
      "[0 1 2 3 4 5 6 7 8]\n",
      "[[0 1 2]\n",
      " [3 4 5]\n",
      " [6 7 8]]\n"
     ]
    }
   ],
   "execution_count": 19
  },
  {
   "cell_type": "markdown",
   "id": "f374c4cf",
   "metadata": {},
   "source": [
    "#### 10. Find indices of non-zero elements from [1,2,0,0,4,0] (★☆☆)"
   ]
  },
  {
   "cell_type": "code",
   "id": "1a84bed8",
   "metadata": {
    "ExecuteTime": {
     "end_time": "2024-07-12T16:45:32.483056Z",
     "start_time": "2024-07-12T16:45:32.480523Z"
    }
   },
   "source": [
    "a = [1,2,0,0,4,0]\n",
    "print(np.nonzero(a))"
   ],
   "outputs": [
    {
     "name": "stdout",
     "output_type": "stream",
     "text": [
      "(array([0, 1, 4]),)\n"
     ]
    }
   ],
   "execution_count": 21
  },
  {
   "cell_type": "markdown",
   "id": "9c4707f5",
   "metadata": {},
   "source": [
    "#### 11. Create a 3x3 identity matrix (★☆☆)"
   ]
  },
  {
   "cell_type": "code",
   "id": "29dc1fd3",
   "metadata": {
    "ExecuteTime": {
     "end_time": "2024-07-12T16:34:37.605988Z",
     "start_time": "2024-07-12T16:34:37.604222Z"
    }
   },
   "source": "a = np.eye(3)",
   "outputs": [],
   "execution_count": 4
  },
  {
   "cell_type": "markdown",
   "id": "3bac294a",
   "metadata": {},
   "source": [
    "#### 12. Create a 3x3x3 array with random values (★☆☆)"
   ]
  },
  {
   "cell_type": "code",
   "id": "eadfae67",
   "metadata": {
    "ExecuteTime": {
     "end_time": "2024-07-12T17:55:52.823871Z",
     "start_time": "2024-07-12T17:55:52.820853Z"
    }
   },
   "source": [
    "Z = np.random.randint(0, 10, size=(3,3,3))\n",
    "print(Z)"
   ],
   "outputs": [
    {
     "name": "stdout",
     "output_type": "stream",
     "text": [
      "[[[5 2 2]\n",
      "  [0 7 1]\n",
      "  [7 9 6]]\n",
      "\n",
      " [[2 3 5]\n",
      "  [8 7 6]\n",
      "  [9 3 8]]\n",
      "\n",
      " [[9 2 3]\n",
      "  [4 1 0]\n",
      "  [5 9 5]]]\n"
     ]
    }
   ],
   "execution_count": 32
  },
  {
   "cell_type": "markdown",
   "id": "466c2989",
   "metadata": {},
   "source": [
    "#### 13. Create a 10x10 array with random values and find the minimum and maximum values (★☆☆)"
   ]
  },
  {
   "cell_type": "code",
   "id": "9a74dbfc",
   "metadata": {
    "ExecuteTime": {
     "end_time": "2024-07-12T17:56:34.383282Z",
     "start_time": "2024-07-12T17:56:34.380580Z"
    }
   },
   "source": [
    "Z = np.random.random((10,10))\n",
    "Zmin, Zmax = Z.min(), Z.max()\n",
    "print(Zmin, Zmax)"
   ],
   "outputs": [
    {
     "name": "stdout",
     "output_type": "stream",
     "text": [
      "0.006236691734056277 0.9926279431996423\n"
     ]
    }
   ],
   "execution_count": 34
  },
  {
   "cell_type": "markdown",
   "id": "53a8edb2",
   "metadata": {},
   "source": [
    "#### 14. Create a random vector of size 30 and find the mean value (★☆☆)"
   ]
  },
  {
   "cell_type": "code",
   "id": "6691530b",
   "metadata": {
    "ExecuteTime": {
     "end_time": "2024-07-12T17:58:17.223422Z",
     "start_time": "2024-07-12T17:58:17.220877Z"
    }
   },
   "source": [
    "a = np.random.random(30)\n",
    "print(a.mean())"
   ],
   "outputs": [
    {
     "name": "stdout",
     "output_type": "stream",
     "text": [
      "0.48547786584905733\n"
     ]
    }
   ],
   "execution_count": 35
  },
  {
   "cell_type": "markdown",
   "id": "cbaad31c",
   "metadata": {},
   "source": [
    "#### 15. Create a 2d array with 1 on the border and 0 inside (★☆☆)"
   ]
  },
  {
   "cell_type": "code",
   "id": "ad8308e3",
   "metadata": {
    "ExecuteTime": {
     "end_time": "2024-07-12T17:59:14.422064Z",
     "start_time": "2024-07-12T17:59:14.418989Z"
    }
   },
   "source": [
    "a = np.ones((5,5))\n",
    "print(f\"Original: {a}\")\n",
    "a[1:-1,1:-1] = 0\n",
    "print(f\"Modified: {a}\")"
   ],
   "outputs": [
    {
     "name": "stdout",
     "output_type": "stream",
     "text": [
      "Original: [[1. 1. 1. 1. 1.]\n",
      " [1. 1. 1. 1. 1.]\n",
      " [1. 1. 1. 1. 1.]\n",
      " [1. 1. 1. 1. 1.]\n",
      " [1. 1. 1. 1. 1.]]\n",
      "Modified: [[1. 1. 1. 1. 1.]\n",
      " [1. 0. 0. 0. 1.]\n",
      " [1. 0. 0. 0. 1.]\n",
      " [1. 0. 0. 0. 1.]\n",
      " [1. 1. 1. 1. 1.]]\n"
     ]
    }
   ],
   "execution_count": 36
  },
  {
   "cell_type": "markdown",
   "id": "c5ecc267",
   "metadata": {},
   "source": "#### 16. How to add a border (filled with 0's) around an existing array? (★☆☆)"
  },
  {
   "cell_type": "code",
   "id": "9d5c78c4",
   "metadata": {
    "ExecuteTime": {
     "end_time": "2024-07-12T17:59:57.511846Z",
     "start_time": "2024-07-12T17:59:57.508984Z"
    }
   },
   "source": [
    "a = np.ones((5,5))\n",
    "print(f\"Original: {a}\")\n",
    "a = np.pad(a, pad_width=1, mode='constant', constant_values=0)\n",
    "print(f\"Modified: {a}\")\n"
   ],
   "outputs": [
    {
     "name": "stdout",
     "output_type": "stream",
     "text": [
      "Original: [[1. 1. 1. 1. 1.]\n",
      " [1. 1. 1. 1. 1.]\n",
      " [1. 1. 1. 1. 1.]\n",
      " [1. 1. 1. 1. 1.]\n",
      " [1. 1. 1. 1. 1.]]\n",
      "Modified: [[0. 0. 0. 0. 0. 0. 0.]\n",
      " [0. 1. 1. 1. 1. 1. 0.]\n",
      " [0. 1. 1. 1. 1. 1. 0.]\n",
      " [0. 1. 1. 1. 1. 1. 0.]\n",
      " [0. 1. 1. 1. 1. 1. 0.]\n",
      " [0. 1. 1. 1. 1. 1. 0.]\n",
      " [0. 0. 0. 0. 0. 0. 0.]]\n"
     ]
    }
   ],
   "execution_count": 37
  },
  {
   "cell_type": "markdown",
   "id": "ef909b72",
   "metadata": {},
   "source": [
    "#### 17. What is the result of the following expression? (★☆☆)\n",
    "```python\n",
    "0 * np.nan\n",
    "np.nan == np.nan\n",
    "np.inf > np.nan\n",
    "np.nan - np.nan\n",
    "np.nan in set([np.nan])\n",
    "0.3 == 3 * 0.1\n",
    "```"
   ]
  },
  {
   "cell_type": "code",
   "id": "3b4985f2",
   "metadata": {
    "ExecuteTime": {
     "end_time": "2024-07-12T18:22:10.639388Z",
     "start_time": "2024-07-12T18:22:10.636721Z"
    }
   },
   "source": [
    "print(0 * np.nan)\n",
    "print(np.nan == np.nan) # nan is not equal to nan :))))\n",
    "print(np.inf)\n",
    "print(np.inf > np.nan)\n",
    "print(np.nan - np.nan)\n",
    "print(np.nan in set([np.nan]))\n",
    "print(0.3 == 3 * 0.1)"
   ],
   "outputs": [
    {
     "name": "stdout",
     "output_type": "stream",
     "text": [
      "nan\n",
      "False\n",
      "inf\n",
      "False\n",
      "nan\n",
      "True\n",
      "False\n"
     ]
    }
   ],
   "execution_count": 41
  },
  {
   "cell_type": "markdown",
   "id": "502738ac",
   "metadata": {},
   "source": [
    "#### 18. Create a 5x5 matrix with values 1,2,3,4 just below the diagonal (★☆☆)"
   ]
  },
  {
   "metadata": {
    "ExecuteTime": {
     "end_time": "2024-07-12T18:32:58.578480Z",
     "start_time": "2024-07-12T18:32:58.576417Z"
    }
   },
   "cell_type": "code",
   "source": "a = np.diag(1+np.arange(4), k=-1)",
   "id": "a502af407a45a3d8",
   "outputs": [],
   "execution_count": 46
  },
  {
   "cell_type": "code",
   "id": "faed6e2b",
   "metadata": {
    "ExecuteTime": {
     "end_time": "2024-07-12T18:33:00.882657Z",
     "start_time": "2024-07-12T18:33:00.879763Z"
    }
   },
   "source": [
    "arr = np.arange(1,5)\n",
    "print(f\"Original array: {arr}\")\n",
    "a = np.diag(arr, k=-1)\n",
    "print(f\"Modified array: {a}\")\n"
   ],
   "outputs": [
    {
     "name": "stdout",
     "output_type": "stream",
     "text": [
      "Original array: [1 2 3 4]\n",
      "Modified array: [[0 0 0 0 0]\n",
      " [1 0 0 0 0]\n",
      " [0 2 0 0 0]\n",
      " [0 0 3 0 0]\n",
      " [0 0 0 4 0]]\n"
     ]
    }
   ],
   "execution_count": 47
  },
  {
   "cell_type": "markdown",
   "id": "a65da660",
   "metadata": {},
   "source": [
    "#### 19. Create a 8x8 matrix and fill it with a checkerboard pattern (★☆☆)"
   ]
  },
  {
   "cell_type": "code",
   "id": "ed150400",
   "metadata": {
    "ExecuteTime": {
     "end_time": "2024-07-12T18:33:30.094155Z",
     "start_time": "2024-07-12T18:33:30.091494Z"
    }
   },
   "source": [
    "a = np.zeros((8,8), dtype=int)\n",
    "a[1::2, ::2] = 1\n",
    "a[::2, 1::2] = 1\n",
    "print(a)"
   ],
   "outputs": [
    {
     "name": "stdout",
     "output_type": "stream",
     "text": [
      "[[0 1 0 1 0 1 0 1]\n",
      " [1 0 1 0 1 0 1 0]\n",
      " [0 1 0 1 0 1 0 1]\n",
      " [1 0 1 0 1 0 1 0]\n",
      " [0 1 0 1 0 1 0 1]\n",
      " [1 0 1 0 1 0 1 0]\n",
      " [0 1 0 1 0 1 0 1]\n",
      " [1 0 1 0 1 0 1 0]]\n"
     ]
    }
   ],
   "execution_count": 48
  },
  {
   "cell_type": "markdown",
   "id": "9f7f9c49",
   "metadata": {},
   "source": [
    "#### 20. Consider a (6,7,8) shape array, what is the index (x,y,z) of the 100th element? (★☆☆)"
   ]
  },
  {
   "cell_type": "code",
   "id": "3782b5a9",
   "metadata": {
    "ExecuteTime": {
     "end_time": "2024-07-12T18:38:59.157126Z",
     "start_time": "2024-07-12T18:38:59.154700Z"
    }
   },
   "source": [
    "a = np.unravel_index(100, (6,7,8))\n",
    "print(a)"
   ],
   "outputs": [
    {
     "name": "stdout",
     "output_type": "stream",
     "text": [
      "(1, 5, 4)\n"
     ]
    }
   ],
   "execution_count": 49
  },
  {
   "cell_type": "markdown",
   "id": "66bfda35",
   "metadata": {},
   "source": [
    "#### 21. Create a checkerboard 8x8 matrix using the tile function (★☆☆)"
   ]
  },
  {
   "cell_type": "code",
   "id": "4c07477c",
   "metadata": {
    "ExecuteTime": {
     "end_time": "2024-07-12T18:44:00.751022Z",
     "start_time": "2024-07-12T18:44:00.748431Z"
    }
   },
   "source": [
    "print(np.array([[0, 1], [1, 0]]))\n",
    "\n",
    "a = np.tile(np.array([[0,1],[1,0]]), (4,4))\n",
    "print(a)"
   ],
   "outputs": [
    {
     "name": "stdout",
     "output_type": "stream",
     "text": [
      "[[0 1]\n",
      " [1 0]]\n",
      "[[0 1 0 1 0 1 0 1]\n",
      " [1 0 1 0 1 0 1 0]\n",
      " [0 1 0 1 0 1 0 1]\n",
      " [1 0 1 0 1 0 1 0]\n",
      " [0 1 0 1 0 1 0 1]\n",
      " [1 0 1 0 1 0 1 0]\n",
      " [0 1 0 1 0 1 0 1]\n",
      " [1 0 1 0 1 0 1 0]]\n"
     ]
    }
   ],
   "execution_count": 51
  },
  {
   "cell_type": "markdown",
   "id": "d5bcfc08",
   "metadata": {},
   "source": [
    "#### 22. Normalize a 5x5 random matrix (★☆☆)"
   ]
  },
  {
   "cell_type": "code",
   "id": "cea6c993",
   "metadata": {
    "ExecuteTime": {
     "end_time": "2024-07-12T18:49:00.702533Z",
     "start_time": "2024-07-12T18:49:00.699605Z"
    }
   },
   "source": [
    "#\n",
    "print(\"not understandable\")"
   ],
   "outputs": [
    {
     "name": "stdout",
     "output_type": "stream",
     "text": [
      "not understandable\n"
     ]
    }
   ],
   "execution_count": 59
  },
  {
   "cell_type": "markdown",
   "id": "f9a0911e",
   "metadata": {},
   "source": [
    "#### 23. Create a custom dtype that describes a color as four unsigned bytes (RGBA) (★☆☆)"
   ]
  },
  {
   "cell_type": "code",
   "id": "d165044b",
   "metadata": {
    "ExecuteTime": {
     "end_time": "2024-07-12T16:34:38.866389Z",
     "start_time": "2024-07-12T16:34:38.864636Z"
    }
   },
   "source": [],
   "outputs": [],
   "execution_count": 4
  },
  {
   "cell_type": "markdown",
   "id": "654805b1",
   "metadata": {},
   "source": [
    "#### 24. Multiply a 5x3 matrix by a 3x2 matrix (real matrix product) (★☆☆)"
   ]
  },
  {
   "cell_type": "code",
   "id": "6a42619f",
   "metadata": {
    "ExecuteTime": {
     "end_time": "2024-07-12T16:34:38.898656Z",
     "start_time": "2024-07-12T16:34:38.896816Z"
    }
   },
   "source": [],
   "outputs": [],
   "execution_count": 4
  },
  {
   "cell_type": "markdown",
   "id": "994c25df",
   "metadata": {},
   "source": [
    "#### 25. Given a 1D array, negate all elements which are between 3 and 8, in place. (★☆☆)"
   ]
  },
  {
   "cell_type": "code",
   "id": "e4b39c03",
   "metadata": {
    "ExecuteTime": {
     "end_time": "2024-07-12T16:34:38.964380Z",
     "start_time": "2024-07-12T16:34:38.962969Z"
    }
   },
   "source": [],
   "outputs": [],
   "execution_count": 4
  },
  {
   "cell_type": "markdown",
   "id": "b7d15d1a",
   "metadata": {},
   "source": [
    "#### 26. What is the output of the following script? (★☆☆)\n",
    "```python\n",
    "# Author: Jake VanderPlas\n",
    "\n",
    "print(sum(range(5),-1))\n",
    "from numpy import *\n",
    "print(sum(range(5),-1))\n",
    "```"
   ]
  },
  {
   "cell_type": "code",
   "id": "4c95bc3f",
   "metadata": {
    "ExecuteTime": {
     "end_time": "2024-07-12T16:34:38.997582Z",
     "start_time": "2024-07-12T16:34:38.995881Z"
    }
   },
   "source": [],
   "outputs": [],
   "execution_count": 4
  },
  {
   "cell_type": "markdown",
   "id": "a34f0d08",
   "metadata": {},
   "source": [
    "#### 27. Consider an integer vector Z, which of these expressions are legal? (★☆☆)\n",
    "```python\n",
    "Z**Z\n",
    "2 << Z >> 2\n",
    "Z <- Z\n",
    "1j*Z\n",
    "Z/1/1\n",
    "Z<Z>Z\n",
    "```"
   ]
  },
  {
   "cell_type": "code",
   "id": "564658fc",
   "metadata": {
    "ExecuteTime": {
     "end_time": "2024-07-12T16:34:39.088915Z",
     "start_time": "2024-07-12T16:34:39.087417Z"
    }
   },
   "source": [],
   "outputs": [],
   "execution_count": 4
  },
  {
   "cell_type": "markdown",
   "id": "c34e94bf",
   "metadata": {},
   "source": [
    "#### 28. What are the result of the following expressions? (★☆☆)\n",
    "```python\n",
    "np.array(0) / np.array(0)\n",
    "np.array(0) // np.array(0)\n",
    "np.array([np.nan]).astype(int).astype(float)\n",
    "```"
   ]
  },
  {
   "cell_type": "code",
   "id": "56663562",
   "metadata": {
    "ExecuteTime": {
     "end_time": "2024-07-12T16:34:39.113907Z",
     "start_time": "2024-07-12T16:34:39.112478Z"
    }
   },
   "source": [],
   "outputs": [],
   "execution_count": 4
  },
  {
   "cell_type": "markdown",
   "id": "546f5e7b",
   "metadata": {},
   "source": [
    "#### 29. How to round away from zero a float array ? (★☆☆)"
   ]
  },
  {
   "cell_type": "code",
   "id": "f725a6d2",
   "metadata": {
    "ExecuteTime": {
     "end_time": "2024-07-12T16:34:39.201880Z",
     "start_time": "2024-07-12T16:34:39.200176Z"
    }
   },
   "source": [],
   "outputs": [],
   "execution_count": 4
  },
  {
   "cell_type": "markdown",
   "id": "eadca856",
   "metadata": {},
   "source": [
    "#### 30. How to find common values between two arrays? (★☆☆)"
   ]
  },
  {
   "cell_type": "code",
   "id": "e0270b5b",
   "metadata": {
    "ExecuteTime": {
     "end_time": "2024-07-12T16:34:39.241409Z",
     "start_time": "2024-07-12T16:34:39.239591Z"
    }
   },
   "source": [],
   "outputs": [],
   "execution_count": 4
  },
  {
   "cell_type": "markdown",
   "id": "ca16ca22",
   "metadata": {},
   "source": [
    "#### 31. How to ignore all numpy warnings (not recommended)? (★☆☆)"
   ]
  },
  {
   "cell_type": "code",
   "id": "7d7208ef",
   "metadata": {
    "ExecuteTime": {
     "end_time": "2024-07-12T16:34:39.320487Z",
     "start_time": "2024-07-12T16:34:39.318887Z"
    }
   },
   "source": [],
   "outputs": [],
   "execution_count": 4
  },
  {
   "cell_type": "markdown",
   "id": "c7871d0d",
   "metadata": {},
   "source": [
    "#### 32. Is the following expressions true? (★☆☆)\n",
    "```python\n",
    "np.sqrt(-1) == np.emath.sqrt(-1)\n",
    "```"
   ]
  },
  {
   "cell_type": "code",
   "id": "acc3701a",
   "metadata": {
    "ExecuteTime": {
     "end_time": "2024-07-12T16:34:39.341555Z",
     "start_time": "2024-07-12T16:34:39.339638Z"
    }
   },
   "source": [],
   "outputs": [],
   "execution_count": 4
  },
  {
   "cell_type": "markdown",
   "id": "e0433e30",
   "metadata": {},
   "source": [
    "#### 33. How to get the dates of yesterday, today and tomorrow? (★☆☆)"
   ]
  },
  {
   "cell_type": "code",
   "id": "9c4d2152",
   "metadata": {
    "ExecuteTime": {
     "end_time": "2024-07-12T16:34:39.411764Z",
     "start_time": "2024-07-12T16:34:39.410181Z"
    }
   },
   "source": [],
   "outputs": [],
   "execution_count": 4
  },
  {
   "cell_type": "markdown",
   "id": "9f52a2ef",
   "metadata": {},
   "source": [
    "#### 34. How to get all the dates corresponding to the month of July 2016? (★★☆)"
   ]
  },
  {
   "cell_type": "code",
   "id": "d6c34dec",
   "metadata": {
    "ExecuteTime": {
     "end_time": "2024-07-12T16:34:39.444905Z",
     "start_time": "2024-07-12T16:34:39.443318Z"
    }
   },
   "source": [],
   "outputs": [],
   "execution_count": 4
  },
  {
   "cell_type": "markdown",
   "id": "4a64e059",
   "metadata": {},
   "source": [
    "#### 35. How to compute ((A+B)*(-A/2)) in place (without copy)? (★★☆)"
   ]
  },
  {
   "cell_type": "code",
   "id": "49267f60",
   "metadata": {
    "ExecuteTime": {
     "end_time": "2024-07-12T16:34:39.536534Z",
     "start_time": "2024-07-12T16:34:39.534944Z"
    }
   },
   "source": [],
   "outputs": [],
   "execution_count": 4
  },
  {
   "cell_type": "markdown",
   "id": "8a98c2a8",
   "metadata": {},
   "source": [
    "#### 36. Extract the integer part of a random array of positive numbers using 4 different methods (★★☆)"
   ]
  },
  {
   "cell_type": "code",
   "id": "368130b3",
   "metadata": {
    "ExecuteTime": {
     "end_time": "2024-07-12T16:34:39.556979Z",
     "start_time": "2024-07-12T16:34:39.555262Z"
    }
   },
   "source": [],
   "outputs": [],
   "execution_count": 4
  },
  {
   "cell_type": "markdown",
   "id": "5a2e3d85",
   "metadata": {},
   "source": [
    "#### 37. Create a 5x5 matrix with row values ranging from 0 to 4 (★★☆)"
   ]
  },
  {
   "cell_type": "code",
   "id": "1d974e8f",
   "metadata": {
    "ExecuteTime": {
     "end_time": "2024-07-12T16:34:39.640865Z",
     "start_time": "2024-07-12T16:34:39.639248Z"
    }
   },
   "source": [],
   "outputs": [],
   "execution_count": 4
  },
  {
   "cell_type": "markdown",
   "id": "9720e2d5",
   "metadata": {},
   "source": [
    "#### 38. Consider a generator function that generates 10 integers and use it to build an array (★☆☆)"
   ]
  },
  {
   "cell_type": "code",
   "id": "e5dd8fc9",
   "metadata": {
    "ExecuteTime": {
     "end_time": "2024-07-12T16:34:39.674936Z",
     "start_time": "2024-07-12T16:34:39.673306Z"
    }
   },
   "source": [],
   "outputs": [],
   "execution_count": 4
  },
  {
   "cell_type": "markdown",
   "id": "c6f2c912",
   "metadata": {},
   "source": [
    "#### 39. Create a vector of size 10 with values ranging from 0 to 1, both excluded (★★☆)"
   ]
  },
  {
   "cell_type": "code",
   "id": "6aaa27d3",
   "metadata": {
    "ExecuteTime": {
     "end_time": "2024-07-12T16:34:39.743589Z",
     "start_time": "2024-07-12T16:34:39.741935Z"
    }
   },
   "source": [],
   "outputs": [],
   "execution_count": 4
  },
  {
   "cell_type": "markdown",
   "id": "a36d6ee4",
   "metadata": {},
   "source": [
    "#### 40. Create a random vector of size 10 and sort it (★★☆)"
   ]
  },
  {
   "cell_type": "code",
   "id": "e589d216",
   "metadata": {
    "ExecuteTime": {
     "end_time": "2024-07-12T16:34:39.772036Z",
     "start_time": "2024-07-12T16:34:39.770701Z"
    }
   },
   "source": [],
   "outputs": [],
   "execution_count": 4
  },
  {
   "cell_type": "markdown",
   "id": "0fb4ad68",
   "metadata": {},
   "source": [
    "#### 41. How to sum a small array faster than np.sum? (★★☆)"
   ]
  },
  {
   "cell_type": "code",
   "id": "a1ba05a0",
   "metadata": {
    "ExecuteTime": {
     "end_time": "2024-07-12T16:34:39.854847Z",
     "start_time": "2024-07-12T16:34:39.853244Z"
    }
   },
   "source": [],
   "outputs": [],
   "execution_count": 4
  },
  {
   "cell_type": "markdown",
   "id": "024ac365",
   "metadata": {},
   "source": [
    "#### 42. Consider two random array A and B, check if they are equal (★★☆)"
   ]
  },
  {
   "cell_type": "code",
   "id": "7db3846d",
   "metadata": {
    "ExecuteTime": {
     "end_time": "2024-07-12T16:34:39.879304Z",
     "start_time": "2024-07-12T16:34:39.877530Z"
    }
   },
   "source": [],
   "outputs": [],
   "execution_count": 4
  },
  {
   "cell_type": "markdown",
   "id": "c68d2401",
   "metadata": {},
   "source": [
    "#### 43. Make an array immutable (read-only) (★★☆)"
   ]
  },
  {
   "cell_type": "code",
   "id": "7828539d",
   "metadata": {
    "ExecuteTime": {
     "end_time": "2024-07-12T16:34:39.968888Z",
     "start_time": "2024-07-12T16:34:39.967239Z"
    }
   },
   "source": [],
   "outputs": [],
   "execution_count": 4
  },
  {
   "cell_type": "markdown",
   "id": "55df6280",
   "metadata": {},
   "source": [
    "#### 44. Consider a random 10x2 matrix representing cartesian coordinates, convert them to polar coordinates (★★☆)"
   ]
  },
  {
   "cell_type": "code",
   "id": "f1c86ea0",
   "metadata": {
    "ExecuteTime": {
     "end_time": "2024-07-12T16:34:40.005059Z",
     "start_time": "2024-07-12T16:34:40.003240Z"
    }
   },
   "source": [],
   "outputs": [],
   "execution_count": 4
  },
  {
   "cell_type": "markdown",
   "id": "2f60f1ec",
   "metadata": {},
   "source": [
    "#### 45. Create random vector of size 10 and replace the maximum value by 0 (★★☆)"
   ]
  },
  {
   "cell_type": "code",
   "id": "d9f48f1c",
   "metadata": {
    "ExecuteTime": {
     "end_time": "2024-07-12T16:34:40.079833Z",
     "start_time": "2024-07-12T16:34:40.078238Z"
    }
   },
   "source": [],
   "outputs": [],
   "execution_count": 4
  },
  {
   "cell_type": "markdown",
   "id": "084e8ad4",
   "metadata": {},
   "source": [
    "#### 46. Create a structured array with `x` and `y` coordinates covering the [0,1]x[0,1] area (★★☆)"
   ]
  },
  {
   "cell_type": "code",
   "id": "58b47c13",
   "metadata": {
    "ExecuteTime": {
     "end_time": "2024-07-12T16:34:40.100241Z",
     "start_time": "2024-07-12T16:34:40.098421Z"
    }
   },
   "source": [],
   "outputs": [],
   "execution_count": 4
  },
  {
   "cell_type": "markdown",
   "id": "d7b9bc42",
   "metadata": {},
   "source": [
    "#### 47. Given two arrays, X and Y, construct the Cauchy matrix C (Cij =1/(xi - yj)) (★★☆)"
   ]
  },
  {
   "cell_type": "code",
   "id": "a24824fb",
   "metadata": {
    "ExecuteTime": {
     "end_time": "2024-07-12T16:34:40.171089Z",
     "start_time": "2024-07-12T16:34:40.169505Z"
    }
   },
   "source": [],
   "outputs": [],
   "execution_count": 4
  },
  {
   "cell_type": "markdown",
   "id": "65ebc11b",
   "metadata": {},
   "source": [
    "#### 48. Print the minimum and maximum representable value for each numpy scalar type (★★☆)"
   ]
  },
  {
   "cell_type": "code",
   "id": "e45d38fb",
   "metadata": {
    "ExecuteTime": {
     "end_time": "2024-07-12T16:34:40.203431Z",
     "start_time": "2024-07-12T16:34:40.201908Z"
    }
   },
   "source": [],
   "outputs": [],
   "execution_count": 4
  },
  {
   "cell_type": "markdown",
   "id": "9b317a98",
   "metadata": {},
   "source": [
    "#### 49. How to print all the values of an array? (★★☆)"
   ]
  },
  {
   "cell_type": "code",
   "id": "309cdeb9",
   "metadata": {
    "ExecuteTime": {
     "end_time": "2024-07-12T16:34:40.287228Z",
     "start_time": "2024-07-12T16:34:40.285724Z"
    }
   },
   "source": [],
   "outputs": [],
   "execution_count": 4
  },
  {
   "cell_type": "markdown",
   "id": "b580f9d0",
   "metadata": {},
   "source": [
    "#### 50. How to find the closest value (to a given scalar) in a vector? (★★☆)"
   ]
  },
  {
   "cell_type": "code",
   "id": "ebfb6714",
   "metadata": {
    "ExecuteTime": {
     "end_time": "2024-07-12T16:34:40.308007Z",
     "start_time": "2024-07-12T16:34:40.306436Z"
    }
   },
   "source": [],
   "outputs": [],
   "execution_count": 4
  },
  {
   "cell_type": "markdown",
   "id": "602e6252",
   "metadata": {},
   "source": [
    "#### 51. Create a structured array representing a position (x,y) and a color (r,g,b) (★★☆)"
   ]
  },
  {
   "cell_type": "code",
   "id": "cf002b3a",
   "metadata": {
    "ExecuteTime": {
     "end_time": "2024-07-12T16:34:40.387839Z",
     "start_time": "2024-07-12T16:34:40.386335Z"
    }
   },
   "source": [],
   "outputs": [],
   "execution_count": 4
  },
  {
   "cell_type": "markdown",
   "id": "78bcd92f",
   "metadata": {},
   "source": [
    "#### 52. Consider a random vector with shape (100,2) representing coordinates, find point by point distances (★★☆)"
   ]
  },
  {
   "cell_type": "code",
   "id": "fea7f9a6",
   "metadata": {
    "ExecuteTime": {
     "end_time": "2024-07-12T16:34:40.429514Z",
     "start_time": "2024-07-12T16:34:40.428257Z"
    }
   },
   "source": [],
   "outputs": [],
   "execution_count": 4
  },
  {
   "cell_type": "markdown",
   "id": "343c5a85",
   "metadata": {},
   "source": [
    "#### 53. How to convert a float (32 bits) array into an integer (32 bits) in place?"
   ]
  },
  {
   "cell_type": "code",
   "id": "fc1b687b",
   "metadata": {
    "ExecuteTime": {
     "end_time": "2024-07-12T16:34:40.502125Z",
     "start_time": "2024-07-12T16:34:40.500508Z"
    }
   },
   "source": [],
   "outputs": [],
   "execution_count": 4
  },
  {
   "cell_type": "markdown",
   "id": "a69e1ace",
   "metadata": {},
   "source": [
    "#### 54. How to read the following file? (★★☆)\n",
    "```\n",
    "1, 2, 3, 4, 5\n",
    "6,  ,  , 7, 8\n",
    " ,  , 9,10,11\n",
    "```"
   ]
  },
  {
   "cell_type": "code",
   "id": "1c7957d4",
   "metadata": {
    "ExecuteTime": {
     "end_time": "2024-07-12T16:34:40.522715Z",
     "start_time": "2024-07-12T16:34:40.521052Z"
    }
   },
   "source": [],
   "outputs": [],
   "execution_count": 4
  },
  {
   "cell_type": "markdown",
   "id": "c23bd80d",
   "metadata": {},
   "source": [
    "#### 55. What is the equivalent of enumerate for numpy arrays? (★★☆)"
   ]
  },
  {
   "cell_type": "code",
   "id": "d95d9578",
   "metadata": {
    "ExecuteTime": {
     "end_time": "2024-07-12T16:34:40.601853Z",
     "start_time": "2024-07-12T16:34:40.600288Z"
    }
   },
   "source": [],
   "outputs": [],
   "execution_count": 4
  },
  {
   "cell_type": "markdown",
   "id": "2153a5ec",
   "metadata": {},
   "source": [
    "#### 56. Generate a generic 2D Gaussian-like array (★★☆)"
   ]
  },
  {
   "cell_type": "code",
   "id": "61122d1e",
   "metadata": {
    "ExecuteTime": {
     "end_time": "2024-07-12T16:34:40.630785Z",
     "start_time": "2024-07-12T16:34:40.629196Z"
    }
   },
   "source": [],
   "outputs": [],
   "execution_count": 4
  },
  {
   "cell_type": "markdown",
   "id": "2e76d589",
   "metadata": {},
   "source": [
    "#### 57. How to randomly place p elements in a 2D array? (★★☆)"
   ]
  },
  {
   "cell_type": "code",
   "id": "0c2e4fcc",
   "metadata": {
    "ExecuteTime": {
     "end_time": "2024-07-12T16:34:40.716883Z",
     "start_time": "2024-07-12T16:34:40.715357Z"
    }
   },
   "source": [],
   "outputs": [],
   "execution_count": 4
  },
  {
   "cell_type": "markdown",
   "id": "8b3933eb",
   "metadata": {},
   "source": [
    "#### 58. Subtract the mean of each row of a matrix (★★☆)"
   ]
  },
  {
   "cell_type": "code",
   "id": "a306c9ef",
   "metadata": {
    "ExecuteTime": {
     "end_time": "2024-07-12T16:34:40.755357Z",
     "start_time": "2024-07-12T16:34:40.753896Z"
    }
   },
   "source": [],
   "outputs": [],
   "execution_count": 4
  },
  {
   "cell_type": "markdown",
   "id": "ea8807c0",
   "metadata": {},
   "source": [
    "#### 59. How to sort an array by the nth column? (★★☆)"
   ]
  },
  {
   "cell_type": "code",
   "id": "cc89a699",
   "metadata": {
    "ExecuteTime": {
     "end_time": "2024-07-12T16:34:40.850535Z",
     "start_time": "2024-07-12T16:34:40.848876Z"
    }
   },
   "source": [],
   "outputs": [],
   "execution_count": 4
  },
  {
   "cell_type": "markdown",
   "id": "00fa00a1",
   "metadata": {},
   "source": [
    "#### 60. How to tell if a given 2D array has null columns? (★★☆)"
   ]
  },
  {
   "cell_type": "code",
   "id": "3436e165",
   "metadata": {
    "ExecuteTime": {
     "end_time": "2024-07-12T16:34:40.870763Z",
     "start_time": "2024-07-12T16:34:40.868917Z"
    }
   },
   "source": [],
   "outputs": [],
   "execution_count": 4
  },
  {
   "cell_type": "markdown",
   "id": "5a65c7a2",
   "metadata": {},
   "source": [
    "#### 61. Find the nearest value from a given value in an array (★★☆)"
   ]
  },
  {
   "cell_type": "code",
   "id": "73f149d6",
   "metadata": {
    "ExecuteTime": {
     "end_time": "2024-07-12T16:34:40.928352Z",
     "start_time": "2024-07-12T16:34:40.926927Z"
    }
   },
   "source": [],
   "outputs": [],
   "execution_count": 4
  },
  {
   "cell_type": "markdown",
   "id": "dd83e8af",
   "metadata": {},
   "source": [
    "#### 62. Considering two arrays with shape (1,3) and (3,1), how to compute their sum using an iterator? (★★☆)"
   ]
  },
  {
   "cell_type": "code",
   "id": "29a709a1",
   "metadata": {
    "ExecuteTime": {
     "end_time": "2024-07-12T16:34:40.968222Z",
     "start_time": "2024-07-12T16:34:40.966785Z"
    }
   },
   "source": [],
   "outputs": [],
   "execution_count": 4
  },
  {
   "cell_type": "markdown",
   "id": "6c042efa",
   "metadata": {},
   "source": [
    "#### 63. Create an array class that has a name attribute (★★☆)"
   ]
  },
  {
   "cell_type": "code",
   "id": "45b3d2e0",
   "metadata": {
    "ExecuteTime": {
     "end_time": "2024-07-12T16:34:41.041528Z",
     "start_time": "2024-07-12T16:34:41.039939Z"
    }
   },
   "source": [],
   "outputs": [],
   "execution_count": 4
  },
  {
   "cell_type": "markdown",
   "id": "0a075c3d",
   "metadata": {},
   "source": [
    "#### 64. Consider a given vector, how to add 1 to each element indexed by a second vector (be careful with repeated indices)? (★★★)"
   ]
  },
  {
   "cell_type": "code",
   "id": "36c50470",
   "metadata": {
    "ExecuteTime": {
     "end_time": "2024-07-12T16:34:41.070770Z",
     "start_time": "2024-07-12T16:34:41.068981Z"
    }
   },
   "source": [],
   "outputs": [],
   "execution_count": 4
  },
  {
   "cell_type": "markdown",
   "id": "0fb2f0c5",
   "metadata": {},
   "source": [
    "#### 65. How to accumulate elements of a vector (X) to an array (F) based on an index list (I)? (★★★)"
   ]
  },
  {
   "cell_type": "code",
   "id": "58aa5f82",
   "metadata": {
    "ExecuteTime": {
     "end_time": "2024-07-12T16:34:41.153055Z",
     "start_time": "2024-07-12T16:34:41.151527Z"
    }
   },
   "source": [],
   "outputs": [],
   "execution_count": 4
  },
  {
   "cell_type": "markdown",
   "id": "d89dc506",
   "metadata": {},
   "source": [
    "#### 66. Considering a (w,h,3) image of (dtype=ubyte), compute the number of unique colors (★★☆)"
   ]
  },
  {
   "cell_type": "code",
   "id": "8fb43a49",
   "metadata": {
    "ExecuteTime": {
     "end_time": "2024-07-12T16:34:41.170837Z",
     "start_time": "2024-07-12T16:34:41.169233Z"
    }
   },
   "source": [],
   "outputs": [],
   "execution_count": 4
  },
  {
   "cell_type": "markdown",
   "id": "535a5d81",
   "metadata": {},
   "source": [
    "#### 67. Considering a four dimensions array, how to get sum over the last two axis at once? (★★★)"
   ]
  },
  {
   "cell_type": "code",
   "id": "f954ab9d",
   "metadata": {
    "ExecuteTime": {
     "end_time": "2024-07-12T16:34:41.199482Z",
     "start_time": "2024-07-12T16:34:41.198092Z"
    }
   },
   "source": [],
   "outputs": [],
   "execution_count": 4
  },
  {
   "cell_type": "markdown",
   "id": "eee66d3c",
   "metadata": {},
   "source": [
    "#### 68. Considering a one-dimensional vector D, how to compute means of subsets of D using a vector S of same size describing subset  indices? (★★★)"
   ]
  },
  {
   "cell_type": "code",
   "id": "8929773a",
   "metadata": {
    "jupyter": {
     "is_executing": true
    }
   },
   "source": [],
   "outputs": [],
   "execution_count": null
  },
  {
   "cell_type": "markdown",
   "id": "f90d4c40",
   "metadata": {},
   "source": [
    "#### 69. How to get the diagonal of a dot product? (★★★)"
   ]
  },
  {
   "cell_type": "code",
   "id": "b47d392d",
   "metadata": {
    "jupyter": {
     "is_executing": true
    }
   },
   "source": [],
   "outputs": [],
   "execution_count": null
  },
  {
   "cell_type": "markdown",
   "id": "a8a97e7d",
   "metadata": {},
   "source": [
    "#### 70. Consider the vector [1, 2, 3, 4, 5], how to build a new vector with 3 consecutive zeros interleaved between each value? (★★★)"
   ]
  },
  {
   "cell_type": "code",
   "id": "ee6c6c37",
   "metadata": {
    "jupyter": {
     "is_executing": true
    }
   },
   "source": [],
   "outputs": [],
   "execution_count": null
  },
  {
   "cell_type": "markdown",
   "id": "d6a30d60",
   "metadata": {},
   "source": [
    "#### 71. Consider an array of dimension (5,5,3), how to mulitply it by an array with dimensions (5,5)? (★★★)"
   ]
  },
  {
   "cell_type": "code",
   "id": "e9703f2e",
   "metadata": {
    "jupyter": {
     "is_executing": true
    }
   },
   "source": [],
   "outputs": [],
   "execution_count": null
  },
  {
   "cell_type": "markdown",
   "id": "bac359a9",
   "metadata": {},
   "source": [
    "#### 72. How to swap two rows of an array? (★★★)"
   ]
  },
  {
   "cell_type": "code",
   "id": "f1b432b1",
   "metadata": {
    "jupyter": {
     "is_executing": true
    }
   },
   "source": [],
   "outputs": [],
   "execution_count": null
  },
  {
   "cell_type": "markdown",
   "id": "620c9f83",
   "metadata": {},
   "source": [
    "#### 73. Consider a set of 10 triplets describing 10 triangles (with shared vertices), find the set of unique line segments composing all the  triangles (★★★)"
   ]
  },
  {
   "cell_type": "code",
   "id": "4e595ffc",
   "metadata": {
    "jupyter": {
     "is_executing": true
    }
   },
   "source": [],
   "outputs": [],
   "execution_count": null
  },
  {
   "cell_type": "markdown",
   "id": "a76c55a2",
   "metadata": {},
   "source": [
    "#### 74. Given a sorted array C that corresponds to a bincount, how to produce an array A such that np.bincount(A) == C? (★★★)"
   ]
  },
  {
   "cell_type": "code",
   "id": "2d2ae65a",
   "metadata": {
    "jupyter": {
     "is_executing": true
    }
   },
   "source": [],
   "outputs": [],
   "execution_count": null
  },
  {
   "cell_type": "markdown",
   "id": "d550c8e2",
   "metadata": {},
   "source": [
    "#### 75. How to compute averages using a sliding window over an array? (★★★)"
   ]
  },
  {
   "cell_type": "code",
   "id": "841c457c",
   "metadata": {
    "ExecuteTime": {
     "end_time": "2024-07-12T16:34:41.942915Z",
     "start_time": "2024-07-12T16:34:41.941366Z"
    }
   },
   "source": [],
   "outputs": [],
   "execution_count": null
  },
  {
   "cell_type": "markdown",
   "id": "6b170b00",
   "metadata": {},
   "source": [
    "#### 76. Consider a one-dimensional array Z, build a two-dimensional array whose first row is (Z[0],Z[1],Z[2]) and each subsequent row is  shifted by 1 (last row should be (Z[-3],Z[-2],Z[-1]) (★★★)"
   ]
  },
  {
   "cell_type": "code",
   "id": "d9a0cf4e",
   "metadata": {
    "ExecuteTime": {
     "end_time": "2024-07-12T16:34:41.946821Z",
     "start_time": "2024-07-12T16:34:41.945465Z"
    }
   },
   "source": [],
   "outputs": [],
   "execution_count": null
  },
  {
   "cell_type": "markdown",
   "id": "e94a5c1d",
   "metadata": {},
   "source": [
    "#### 77. How to negate a boolean, or to change the sign of a float inplace? (★★★)"
   ]
  },
  {
   "cell_type": "code",
   "id": "c0f9504f",
   "metadata": {
    "ExecuteTime": {
     "end_time": "2024-07-12T16:34:41.962535Z",
     "start_time": "2024-07-12T16:34:41.961138Z"
    }
   },
   "source": [],
   "outputs": [],
   "execution_count": null
  },
  {
   "cell_type": "markdown",
   "id": "4eb8b5c1",
   "metadata": {},
   "source": [
    "#### 78. Consider 2 sets of points P0,P1 describing lines (2d) and a point p, how to compute distance from p to each line i (P0[i],P1[i])? (★★★)"
   ]
  },
  {
   "cell_type": "code",
   "id": "487f47ec",
   "metadata": {
    "ExecuteTime": {
     "end_time": "2024-07-12T16:34:41.982133Z",
     "start_time": "2024-07-12T16:34:41.980400Z"
    }
   },
   "source": [],
   "outputs": [],
   "execution_count": null
  },
  {
   "cell_type": "markdown",
   "id": "3df99948",
   "metadata": {},
   "source": [
    "#### 79. Consider 2 sets of points P0,P1 describing lines (2d) and a set of points P, how to compute distance from each point j (P[j]) to each line i (P0[i],P1[i])? (★★★)"
   ]
  },
  {
   "cell_type": "code",
   "id": "dc2df37b",
   "metadata": {
    "ExecuteTime": {
     "end_time": "2024-07-12T16:34:42.058274Z",
     "start_time": "2024-07-12T16:34:42.056656Z"
    }
   },
   "source": [],
   "outputs": [],
   "execution_count": null
  },
  {
   "cell_type": "markdown",
   "id": "11e972c2",
   "metadata": {},
   "source": [
    "#### 80. Consider an arbitrary array, write a function that extract a subpart with a fixed shape and centered on a given element (pad with a `fill` value when necessary) (★★★)"
   ]
  },
  {
   "cell_type": "code",
   "id": "0291247f",
   "metadata": {
    "ExecuteTime": {
     "end_time": "2024-07-12T16:34:42.092748Z",
     "start_time": "2024-07-12T16:34:42.091068Z"
    }
   },
   "source": [],
   "outputs": [],
   "execution_count": null
  },
  {
   "cell_type": "markdown",
   "id": "93cfeab3",
   "metadata": {},
   "source": [
    "#### 81. Consider an array Z = [1,2,3,4,5,6,7,8,9,10,11,12,13,14], how to generate an array R = [[1,2,3,4], [2,3,4,5], [3,4,5,6], ..., [11,12,13,14]]? (★★★)"
   ]
  },
  {
   "cell_type": "code",
   "id": "360de791",
   "metadata": {
    "ExecuteTime": {
     "end_time": "2024-07-12T16:34:42.176491Z",
     "start_time": "2024-07-12T16:34:42.175004Z"
    }
   },
   "source": [],
   "outputs": [],
   "execution_count": null
  },
  {
   "cell_type": "markdown",
   "id": "4c15ceff",
   "metadata": {},
   "source": [
    "#### 82. Compute a matrix rank (★★★)"
   ]
  },
  {
   "cell_type": "code",
   "id": "9a4272d2",
   "metadata": {
    "ExecuteTime": {
     "end_time": "2024-07-12T16:34:42.208356Z",
     "start_time": "2024-07-12T16:34:42.206701Z"
    }
   },
   "source": [],
   "outputs": [],
   "execution_count": null
  },
  {
   "cell_type": "markdown",
   "id": "1171cb84",
   "metadata": {},
   "source": [
    "#### 83. How to find the most frequent value in an array?"
   ]
  },
  {
   "cell_type": "code",
   "id": "33e951c8",
   "metadata": {
    "ExecuteTime": {
     "end_time": "2024-07-12T16:34:42.291436Z",
     "start_time": "2024-07-12T16:34:42.289470Z"
    }
   },
   "source": [],
   "outputs": [],
   "execution_count": null
  },
  {
   "cell_type": "markdown",
   "id": "04f472aa",
   "metadata": {},
   "source": [
    "#### 84. Extract all the contiguous 3x3 blocks from a random 10x10 matrix (★★★)"
   ]
  },
  {
   "cell_type": "code",
   "id": "7aade14a",
   "metadata": {
    "ExecuteTime": {
     "end_time": "2024-07-12T16:34:42.314287Z",
     "start_time": "2024-07-12T16:34:42.312682Z"
    }
   },
   "source": [],
   "outputs": [],
   "execution_count": null
  },
  {
   "cell_type": "markdown",
   "id": "52836346",
   "metadata": {},
   "source": [
    "#### 85. Create a 2D array subclass such that Z[i,j] == Z[j,i] (★★★)"
   ]
  },
  {
   "cell_type": "code",
   "id": "4df70318",
   "metadata": {
    "ExecuteTime": {
     "end_time": "2024-07-12T16:34:42.393759Z",
     "start_time": "2024-07-12T16:34:42.392146Z"
    }
   },
   "source": [],
   "outputs": [],
   "execution_count": null
  },
  {
   "cell_type": "markdown",
   "id": "78c43ee5",
   "metadata": {},
   "source": [
    "#### 86. Consider a set of p matrices with shape (n,n) and a set of p vectors with shape (n,1). How to compute the sum of of the p matrix products at once? (result has shape (n,1)) (★★★)"
   ]
  },
  {
   "cell_type": "code",
   "id": "32fd2c3b",
   "metadata": {
    "ExecuteTime": {
     "end_time": "2024-07-12T16:34:42.414245Z",
     "start_time": "2024-07-12T16:34:42.412566Z"
    }
   },
   "source": [],
   "outputs": [],
   "execution_count": null
  },
  {
   "cell_type": "markdown",
   "id": "158f9945",
   "metadata": {},
   "source": [
    "#### 87. Consider a 16x16 array, how to get the block-sum (block size is 4x4)? (★★★)"
   ]
  },
  {
   "cell_type": "code",
   "id": "5a9b808f",
   "metadata": {
    "ExecuteTime": {
     "end_time": "2024-07-12T16:34:42.500108Z",
     "start_time": "2024-07-12T16:34:42.498715Z"
    }
   },
   "source": [],
   "outputs": [],
   "execution_count": null
  },
  {
   "cell_type": "markdown",
   "id": "2e0ad860",
   "metadata": {},
   "source": [
    "#### 88. How to implement the Game of Life using numpy arrays? (★★★)"
   ]
  },
  {
   "cell_type": "code",
   "id": "574acff5",
   "metadata": {
    "ExecuteTime": {
     "end_time": "2024-07-12T16:34:42.544771Z",
     "start_time": "2024-07-12T16:34:42.543013Z"
    }
   },
   "source": [],
   "outputs": [],
   "execution_count": null
  },
  {
   "cell_type": "markdown",
   "id": "69a892fa",
   "metadata": {},
   "source": [
    "#### 89. How to get the n largest values of an array (★★★)"
   ]
  },
  {
   "cell_type": "code",
   "id": "21b2bd48",
   "metadata": {
    "ExecuteTime": {
     "end_time": "2024-07-12T16:34:42.631801Z",
     "start_time": "2024-07-12T16:34:42.629696Z"
    }
   },
   "source": [],
   "outputs": [],
   "execution_count": null
  },
  {
   "cell_type": "markdown",
   "id": "b55ccacc",
   "metadata": {},
   "source": [
    "#### 90. Given an arbitrary number of vectors, build the cartesian product (every combinations of every item) (★★★)"
   ]
  },
  {
   "cell_type": "code",
   "id": "4b645da4",
   "metadata": {
    "ExecuteTime": {
     "end_time": "2024-07-12T16:34:42.650914Z",
     "start_time": "2024-07-12T16:34:42.649268Z"
    }
   },
   "source": [],
   "outputs": [],
   "execution_count": null
  },
  {
   "cell_type": "markdown",
   "id": "89187a23",
   "metadata": {},
   "source": [
    "#### 91. How to create a record array from a regular array? (★★★)"
   ]
  },
  {
   "cell_type": "code",
   "id": "da94c71a",
   "metadata": {
    "ExecuteTime": {
     "end_time": "2024-07-12T16:34:42.678940Z",
     "start_time": "2024-07-12T16:34:42.677497Z"
    }
   },
   "source": [],
   "outputs": [],
   "execution_count": null
  },
  {
   "cell_type": "markdown",
   "id": "aa70d4ca",
   "metadata": {},
   "source": [
    "#### 92. Consider a large vector Z, compute Z to the power of 3 using 3 different methods (★★★)"
   ]
  },
  {
   "cell_type": "code",
   "id": "7cff1bf5",
   "metadata": {
    "ExecuteTime": {
     "end_time": "2024-07-12T16:34:42.748134Z",
     "start_time": "2024-07-12T16:34:42.746634Z"
    }
   },
   "source": [],
   "outputs": [],
   "execution_count": null
  },
  {
   "cell_type": "markdown",
   "id": "5f79dd00",
   "metadata": {},
   "source": [
    "#### 93. Consider two arrays A and B of shape (8,3) and (2,2). How to find rows of A that contain elements of each row of B regardless of the order of the elements in B? (★★★)"
   ]
  },
  {
   "cell_type": "code",
   "id": "20c105b2",
   "metadata": {
    "ExecuteTime": {
     "end_time": "2024-07-12T16:34:42.776023Z",
     "start_time": "2024-07-12T16:34:42.774269Z"
    }
   },
   "source": [],
   "outputs": [],
   "execution_count": null
  },
  {
   "cell_type": "markdown",
   "id": "a80570cd",
   "metadata": {},
   "source": [
    "#### 94. Considering a 10x3 matrix, extract rows with unequal values (e.g. [2,2,3]) (★★★)"
   ]
  },
  {
   "cell_type": "code",
   "id": "84db8de1",
   "metadata": {
    "ExecuteTime": {
     "end_time": "2024-07-12T16:34:42.851445Z",
     "start_time": "2024-07-12T16:34:42.849875Z"
    }
   },
   "source": [],
   "outputs": [],
   "execution_count": null
  },
  {
   "cell_type": "markdown",
   "id": "ba154f43",
   "metadata": {},
   "source": [
    "#### 95. Convert a vector of ints into a matrix binary representation (★★★)"
   ]
  },
  {
   "cell_type": "code",
   "id": "cfa96e1b",
   "metadata": {
    "ExecuteTime": {
     "end_time": "2024-07-12T16:34:42.883514Z",
     "start_time": "2024-07-12T16:34:42.881841Z"
    }
   },
   "source": [],
   "outputs": [],
   "execution_count": null
  },
  {
   "cell_type": "markdown",
   "id": "420e2343",
   "metadata": {},
   "source": [
    "#### 96. Given a two dimensional array, how to extract unique rows? (★★★)"
   ]
  },
  {
   "cell_type": "code",
   "id": "4680dfd0",
   "metadata": {
    "ExecuteTime": {
     "end_time": "2024-07-12T16:34:42.957270Z",
     "start_time": "2024-07-12T16:34:42.955645Z"
    }
   },
   "source": [],
   "outputs": [],
   "execution_count": null
  },
  {
   "cell_type": "markdown",
   "id": "89fef2f3",
   "metadata": {},
   "source": [
    "#### 97. Considering 2 vectors A & B, write the einsum equivalent of inner, outer, sum, and mul function (★★★)"
   ]
  },
  {
   "cell_type": "code",
   "id": "bb9c14b2",
   "metadata": {
    "ExecuteTime": {
     "end_time": "2024-07-12T16:34:42.981715Z",
     "start_time": "2024-07-12T16:34:42.979994Z"
    }
   },
   "source": [],
   "outputs": [],
   "execution_count": null
  },
  {
   "cell_type": "markdown",
   "id": "7ad5cc5f",
   "metadata": {},
   "source": [
    "#### 98. Considering a path described by two vectors (X,Y), how to sample it using equidistant samples (★★★)?"
   ]
  },
  {
   "cell_type": "code",
   "id": "0899d1d5",
   "metadata": {
    "ExecuteTime": {
     "end_time": "2024-07-12T16:34:43.049520Z",
     "start_time": "2024-07-12T16:34:43.047923Z"
    }
   },
   "source": [],
   "outputs": [],
   "execution_count": null
  },
  {
   "cell_type": "markdown",
   "id": "2b69272e",
   "metadata": {},
   "source": [
    "#### 99. Given an integer n and a 2D array X, select from X the rows which can be interpreted as draws from a multinomial distribution with n degrees, i.e., the rows which only contain integers and which sum to n. (★★★)"
   ]
  },
  {
   "cell_type": "code",
   "id": "55c8b034",
   "metadata": {
    "ExecuteTime": {
     "end_time": "2024-07-12T16:34:43.076743Z",
     "start_time": "2024-07-12T16:34:43.075213Z"
    }
   },
   "source": [],
   "outputs": [],
   "execution_count": null
  },
  {
   "cell_type": "markdown",
   "id": "59ab5516",
   "metadata": {},
   "source": [
    "#### 100. Compute bootstrapped 95% confidence intervals for the mean of a 1D array X (i.e., resample the elements of an array with replacement N times, compute the mean of each sample, and then compute percentiles over the means). (★★★)"
   ]
  },
  {
   "cell_type": "code",
   "id": "450877d8",
   "metadata": {
    "ExecuteTime": {
     "end_time": "2024-07-12T16:34:43.152333Z",
     "start_time": "2024-07-12T16:34:43.150883Z"
    }
   },
   "source": [],
   "outputs": [],
   "execution_count": null
  }
 ],
 "metadata": {
  "kernelspec": {
   "display_name": "base",
   "language": "python",
   "name": "python3"
  },
  "language_info": {
   "codemirror_mode": {
    "name": "ipython",
    "version": 3
   },
   "file_extension": ".py",
   "mimetype": "text/x-python",
   "name": "python",
   "nbconvert_exporter": "python",
   "pygments_lexer": "ipython3",
   "version": "3.11.7"
  }
 },
 "nbformat": 4,
 "nbformat_minor": 5
}
